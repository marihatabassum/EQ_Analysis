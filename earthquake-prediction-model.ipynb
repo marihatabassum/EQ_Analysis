{
 "cells": [
  {
   "cell_type": "code",
   "execution_count": 1,
   "metadata": {},
   "outputs": [],
   "source": [
    "!pip install jovian --upgrade --quiet\n",
    "import jovian"
   ]
  },
  {
   "cell_type": "code",
   "execution_count": 2,
   "metadata": {},
   "outputs": [
    {
     "name": "stdout",
     "output_type": "stream",
     "text": [
      "Requirement already satisfied: seaborn in /opt/conda/lib/python3.8/site-packages (0.11.0)\n",
      "Requirement already satisfied: scipy>=1.0 in /opt/conda/lib/python3.8/site-packages (from seaborn) (1.5.2)\n",
      "Requirement already satisfied: pandas>=0.23 in /opt/conda/lib/python3.8/site-packages (from seaborn) (1.1.5)\n",
      "Requirement already satisfied: numpy>=1.15 in /opt/conda/lib/python3.8/site-packages (from seaborn) (1.19.4)\n",
      "Requirement already satisfied: matplotlib>=2.2 in /opt/conda/lib/python3.8/site-packages (from seaborn) (3.3.3)\n",
      "Requirement already satisfied: pytz>=2017.2 in /opt/conda/lib/python3.8/site-packages (from pandas>=0.23->seaborn) (2020.1)\n",
      "Requirement already satisfied: python-dateutil>=2.7.3 in /opt/conda/lib/python3.8/site-packages (from pandas>=0.23->seaborn) (2.8.1)\n",
      "Requirement already satisfied: pillow>=6.2.0 in /opt/conda/lib/python3.8/site-packages (from matplotlib>=2.2->seaborn) (8.0.0)\n",
      "Requirement already satisfied: cycler>=0.10 in /opt/conda/lib/python3.8/site-packages (from matplotlib>=2.2->seaborn) (0.10.0)\n",
      "Requirement already satisfied: kiwisolver>=1.0.1 in /opt/conda/lib/python3.8/site-packages (from matplotlib>=2.2->seaborn) (1.2.0)\n",
      "Requirement already satisfied: pyparsing!=2.0.4,!=2.1.2,!=2.1.6,>=2.0.3 in /opt/conda/lib/python3.8/site-packages (from matplotlib>=2.2->seaborn) (2.4.7)\n",
      "Requirement already satisfied: six>=1.5 in /opt/conda/lib/python3.8/site-packages (from python-dateutil>=2.7.3->pandas>=0.23->seaborn) (1.15.0)\n"
     ]
    }
   ],
   "source": [
    "!pip install pandas --upgrade --quiet\n",
    "import pandas as pd \n",
    "!pip install matplotlib --upgrade --quiet\n",
    "!pip install seaborn \n",
    "import seaborn as sns\n",
    "import matplotlib.pyplot as plt\n",
    "!pip install numpy --upgrade --quiet\n",
    "import numpy as np\n",
    "%matplotlib inline"
   ]
  },
  {
   "cell_type": "code",
   "execution_count": 3,
   "metadata": {},
   "outputs": [],
   "source": [
    "import torch\n",
    "import torchvision\n",
    "import torch.nn as nn\n",
    "import torch.nn.functional as F\n",
    "from torchvision.datasets.utils import download_url\n",
    "from torch.utils.data import DataLoader, TensorDataset, random_split"
   ]
  },
  {
   "cell_type": "code",
   "execution_count": 4,
   "metadata": {},
   "outputs": [
    {
     "data": {
      "application/javascript": [
       "window.require && require([\"base/js/namespace\"],function(Jupyter){Jupyter.notebook.save_checkpoint()})"
      ],
      "text/plain": [
       "<IPython.core.display.Javascript object>"
      ]
     },
     "metadata": {},
     "output_type": "display_data"
    },
    {
     "name": "stdout",
     "output_type": "stream",
     "text": [
      "[jovian] Attempting to save notebook..\u001b[0m\n",
      "[jovian] Updating notebook \"mrittrukhuda/eq-prediction-linear-regression-model\" on https://jovian.ai\u001b[0m\n",
      "[jovian] Uploading notebook..\u001b[0m\n",
      "[jovian] Uploading additional files...\u001b[0m\n",
      "[jovian] Committed successfully! https://jovian.ai/mrittrukhuda/eq-prediction-linear-regression-model\u001b[0m\n"
     ]
    },
    {
     "data": {
      "text/plain": [
       "'https://jovian.ai/mrittrukhuda/eq-prediction-linear-regression-model'"
      ]
     },
     "execution_count": 4,
     "metadata": {},
     "output_type": "execute_result"
    }
   ],
   "source": [
    "jovian.commit(file=[\"eq_dataset_15_12_20.csv\"])"
   ]
  },
  {
   "cell_type": "code",
   "execution_count": 5,
   "metadata": {},
   "outputs": [
    {
     "data": {
      "text/html": [
       "<div>\n",
       "<style scoped>\n",
       "    .dataframe tbody tr th:only-of-type {\n",
       "        vertical-align: middle;\n",
       "    }\n",
       "\n",
       "    .dataframe tbody tr th {\n",
       "        vertical-align: top;\n",
       "    }\n",
       "\n",
       "    .dataframe thead th {\n",
       "        text-align: right;\n",
       "    }\n",
       "</style>\n",
       "<table border=\"1\" class=\"dataframe\">\n",
       "  <thead>\n",
       "    <tr style=\"text-align: right;\">\n",
       "      <th></th>\n",
       "      <th>Year</th>\n",
       "      <th>Month</th>\n",
       "      <th>Day</th>\n",
       "      <th>Time</th>\n",
       "      <th>Lat</th>\n",
       "      <th>Lon</th>\n",
       "      <th>Depth</th>\n",
       "      <th>Mag</th>\n",
       "      <th>Region</th>\n",
       "      <th>Timestamp</th>\n",
       "    </tr>\n",
       "  </thead>\n",
       "  <tbody>\n",
       "    <tr>\n",
       "      <th>0</th>\n",
       "      <td>2020</td>\n",
       "      <td>12</td>\n",
       "      <td>10</td>\n",
       "      <td>16:56:51</td>\n",
       "      <td>26.1587</td>\n",
       "      <td>90.5570</td>\n",
       "      <td>35.3</td>\n",
       "      <td>4.3</td>\n",
       "      <td>7 km WSW of Goālpāra, India</td>\n",
       "      <td>1607619411</td>\n",
       "    </tr>\n",
       "    <tr>\n",
       "      <th>1</th>\n",
       "      <td>2020</td>\n",
       "      <td>12</td>\n",
       "      <td>10</td>\n",
       "      <td>16:33:08</td>\n",
       "      <td>37.1284</td>\n",
       "      <td>71.6137</td>\n",
       "      <td>114.5</td>\n",
       "      <td>4.2</td>\n",
       "      <td>40 km S of Khorugh, Tajikistan</td>\n",
       "      <td>1607617988</td>\n",
       "    </tr>\n",
       "    <tr>\n",
       "      <th>2</th>\n",
       "      <td>2020</td>\n",
       "      <td>12</td>\n",
       "      <td>8</td>\n",
       "      <td>08:49:55</td>\n",
       "      <td>31.5693</td>\n",
       "      <td>104.3594</td>\n",
       "      <td>10.0</td>\n",
       "      <td>4.5</td>\n",
       "      <td>32 km WNW of Mianyang, China</td>\n",
       "      <td>1607417395</td>\n",
       "    </tr>\n",
       "    <tr>\n",
       "      <th>3</th>\n",
       "      <td>2020</td>\n",
       "      <td>12</td>\n",
       "      <td>8</td>\n",
       "      <td>05:14:35</td>\n",
       "      <td>22.1912</td>\n",
       "      <td>94.3800</td>\n",
       "      <td>91.0</td>\n",
       "      <td>5.1</td>\n",
       "      <td>78 km W of Monywa, Myanmar</td>\n",
       "      <td>1607404475</td>\n",
       "    </tr>\n",
       "    <tr>\n",
       "      <th>4</th>\n",
       "      <td>2020</td>\n",
       "      <td>12</td>\n",
       "      <td>6</td>\n",
       "      <td>14:39:13</td>\n",
       "      <td>21.8358</td>\n",
       "      <td>93.4233</td>\n",
       "      <td>52.6</td>\n",
       "      <td>4.6</td>\n",
       "      <td>85 km SSE of Saiha, India</td>\n",
       "      <td>1607265553</td>\n",
       "    </tr>\n",
       "    <tr>\n",
       "      <th>...</th>\n",
       "      <td>...</td>\n",
       "      <td>...</td>\n",
       "      <td>...</td>\n",
       "      <td>...</td>\n",
       "      <td>...</td>\n",
       "      <td>...</td>\n",
       "      <td>...</td>\n",
       "      <td>...</td>\n",
       "      <td>...</td>\n",
       "      <td>...</td>\n",
       "    </tr>\n",
       "    <tr>\n",
       "      <th>24701</th>\n",
       "      <td>1970</td>\n",
       "      <td>2</td>\n",
       "      <td>24</td>\n",
       "      <td>02:07:35</td>\n",
       "      <td>30.6070</td>\n",
       "      <td>103.2030</td>\n",
       "      <td>15.0</td>\n",
       "      <td>5.6</td>\n",
       "      <td>eastern Sichuan, China</td>\n",
       "      <td>4673255</td>\n",
       "    </tr>\n",
       "    <tr>\n",
       "      <th>24702</th>\n",
       "      <td>1970</td>\n",
       "      <td>2</td>\n",
       "      <td>6</td>\n",
       "      <td>22:10:41</td>\n",
       "      <td>23.0830</td>\n",
       "      <td>100.7710</td>\n",
       "      <td>10.0</td>\n",
       "      <td>6.1</td>\n",
       "      <td>Yunnan, China</td>\n",
       "      <td>3190241</td>\n",
       "    </tr>\n",
       "    <tr>\n",
       "      <th>24703</th>\n",
       "      <td>1970</td>\n",
       "      <td>2</td>\n",
       "      <td>5</td>\n",
       "      <td>03:40:03</td>\n",
       "      <td>24.3710</td>\n",
       "      <td>102.3020</td>\n",
       "      <td>23.5</td>\n",
       "      <td>5.8</td>\n",
       "      <td>Yunnan, China</td>\n",
       "      <td>3037203</td>\n",
       "    </tr>\n",
       "    <tr>\n",
       "      <th>24704</th>\n",
       "      <td>1970</td>\n",
       "      <td>1</td>\n",
       "      <td>5</td>\n",
       "      <td>11:49:10</td>\n",
       "      <td>23.9840</td>\n",
       "      <td>102.7320</td>\n",
       "      <td>15.0</td>\n",
       "      <td>5.9</td>\n",
       "      <td>Yunnan, China</td>\n",
       "      <td>388150</td>\n",
       "    </tr>\n",
       "    <tr>\n",
       "      <th>24705</th>\n",
       "      <td>1970</td>\n",
       "      <td>1</td>\n",
       "      <td>4</td>\n",
       "      <td>17:00:41</td>\n",
       "      <td>24.1850</td>\n",
       "      <td>102.5430</td>\n",
       "      <td>11.3</td>\n",
       "      <td>7.1</td>\n",
       "      <td>Yunnan, China</td>\n",
       "      <td>320441</td>\n",
       "    </tr>\n",
       "  </tbody>\n",
       "</table>\n",
       "<p>24706 rows × 10 columns</p>\n",
       "</div>"
      ],
      "text/plain": [
       "       Year  Month  Day      Time      Lat       Lon  Depth  Mag  \\\n",
       "0      2020     12   10  16:56:51  26.1587   90.5570   35.3  4.3   \n",
       "1      2020     12   10  16:33:08  37.1284   71.6137  114.5  4.2   \n",
       "2      2020     12    8  08:49:55  31.5693  104.3594   10.0  4.5   \n",
       "3      2020     12    8  05:14:35  22.1912   94.3800   91.0  5.1   \n",
       "4      2020     12    6  14:39:13  21.8358   93.4233   52.6  4.6   \n",
       "...     ...    ...  ...       ...      ...       ...    ...  ...   \n",
       "24701  1970      2   24  02:07:35  30.6070  103.2030   15.0  5.6   \n",
       "24702  1970      2    6  22:10:41  23.0830  100.7710   10.0  6.1   \n",
       "24703  1970      2    5  03:40:03  24.3710  102.3020   23.5  5.8   \n",
       "24704  1970      1    5  11:49:10  23.9840  102.7320   15.0  5.9   \n",
       "24705  1970      1    4  17:00:41  24.1850  102.5430   11.3  7.1   \n",
       "\n",
       "                               Region   Timestamp  \n",
       "0         7 km WSW of Goālpāra, India  1607619411  \n",
       "1      40 km S of Khorugh, Tajikistan  1607617988  \n",
       "2        32 km WNW of Mianyang, China  1607417395  \n",
       "3          78 km W of Monywa, Myanmar  1607404475  \n",
       "4           85 km SSE of Saiha, India  1607265553  \n",
       "...                               ...         ...  \n",
       "24701          eastern Sichuan, China     4673255  \n",
       "24702                   Yunnan, China     3190241  \n",
       "24703                   Yunnan, China     3037203  \n",
       "24704                   Yunnan, China      388150  \n",
       "24705                   Yunnan, China      320441  \n",
       "\n",
       "[24706 rows x 10 columns]"
      ]
     },
     "execution_count": 5,
     "metadata": {},
     "output_type": "execute_result"
    }
   ],
   "source": [
    "eq_df=pd.read_csv(\"eq_dataset_15_12_20.csv\")\n",
    "eq_df"
   ]
  },
  {
   "cell_type": "code",
   "execution_count": 6,
   "metadata": {},
   "outputs": [
    {
     "data": {
      "text/html": [
       "<div>\n",
       "<style scoped>\n",
       "    .dataframe tbody tr th:only-of-type {\n",
       "        vertical-align: middle;\n",
       "    }\n",
       "\n",
       "    .dataframe tbody tr th {\n",
       "        vertical-align: top;\n",
       "    }\n",
       "\n",
       "    .dataframe thead th {\n",
       "        text-align: right;\n",
       "    }\n",
       "</style>\n",
       "<table border=\"1\" class=\"dataframe\">\n",
       "  <thead>\n",
       "    <tr style=\"text-align: right;\">\n",
       "      <th></th>\n",
       "      <th>Year</th>\n",
       "      <th>Month</th>\n",
       "      <th>Day</th>\n",
       "      <th>Time</th>\n",
       "      <th>Lat</th>\n",
       "      <th>Lon</th>\n",
       "      <th>Depth</th>\n",
       "      <th>Mag</th>\n",
       "      <th>Region</th>\n",
       "      <th>Timestamp</th>\n",
       "    </tr>\n",
       "  </thead>\n",
       "  <tbody>\n",
       "    <tr>\n",
       "      <th>0</th>\n",
       "      <td>2020</td>\n",
       "      <td>12</td>\n",
       "      <td>10</td>\n",
       "      <td>16:56:51</td>\n",
       "      <td>26.1587</td>\n",
       "      <td>90.5570</td>\n",
       "      <td>35.3</td>\n",
       "      <td>4.3</td>\n",
       "      <td>7 km WSW of Goālpāra, India</td>\n",
       "      <td>1607619411</td>\n",
       "    </tr>\n",
       "    <tr>\n",
       "      <th>1</th>\n",
       "      <td>2020</td>\n",
       "      <td>12</td>\n",
       "      <td>10</td>\n",
       "      <td>16:33:08</td>\n",
       "      <td>37.1284</td>\n",
       "      <td>71.6137</td>\n",
       "      <td>114.5</td>\n",
       "      <td>4.2</td>\n",
       "      <td>40 km S of Khorugh, Tajikistan</td>\n",
       "      <td>1607617988</td>\n",
       "    </tr>\n",
       "    <tr>\n",
       "      <th>2</th>\n",
       "      <td>2020</td>\n",
       "      <td>12</td>\n",
       "      <td>8</td>\n",
       "      <td>08:49:55</td>\n",
       "      <td>31.5693</td>\n",
       "      <td>104.3594</td>\n",
       "      <td>10.0</td>\n",
       "      <td>4.5</td>\n",
       "      <td>32 km WNW of Mianyang, China</td>\n",
       "      <td>1607417395</td>\n",
       "    </tr>\n",
       "    <tr>\n",
       "      <th>3</th>\n",
       "      <td>2020</td>\n",
       "      <td>12</td>\n",
       "      <td>8</td>\n",
       "      <td>05:14:35</td>\n",
       "      <td>22.1912</td>\n",
       "      <td>94.3800</td>\n",
       "      <td>91.0</td>\n",
       "      <td>5.1</td>\n",
       "      <td>78 km W of Monywa, Myanmar</td>\n",
       "      <td>1607404475</td>\n",
       "    </tr>\n",
       "    <tr>\n",
       "      <th>4</th>\n",
       "      <td>2020</td>\n",
       "      <td>12</td>\n",
       "      <td>6</td>\n",
       "      <td>14:39:13</td>\n",
       "      <td>21.8358</td>\n",
       "      <td>93.4233</td>\n",
       "      <td>52.6</td>\n",
       "      <td>4.6</td>\n",
       "      <td>85 km SSE of Saiha, India</td>\n",
       "      <td>1607265553</td>\n",
       "    </tr>\n",
       "    <tr>\n",
       "      <th>...</th>\n",
       "      <td>...</td>\n",
       "      <td>...</td>\n",
       "      <td>...</td>\n",
       "      <td>...</td>\n",
       "      <td>...</td>\n",
       "      <td>...</td>\n",
       "      <td>...</td>\n",
       "      <td>...</td>\n",
       "      <td>...</td>\n",
       "      <td>...</td>\n",
       "    </tr>\n",
       "    <tr>\n",
       "      <th>24701</th>\n",
       "      <td>1970</td>\n",
       "      <td>2</td>\n",
       "      <td>24</td>\n",
       "      <td>02:07:35</td>\n",
       "      <td>30.6070</td>\n",
       "      <td>103.2030</td>\n",
       "      <td>15.0</td>\n",
       "      <td>5.6</td>\n",
       "      <td>eastern Sichuan, China</td>\n",
       "      <td>4673255</td>\n",
       "    </tr>\n",
       "    <tr>\n",
       "      <th>24702</th>\n",
       "      <td>1970</td>\n",
       "      <td>2</td>\n",
       "      <td>6</td>\n",
       "      <td>22:10:41</td>\n",
       "      <td>23.0830</td>\n",
       "      <td>100.7710</td>\n",
       "      <td>10.0</td>\n",
       "      <td>6.1</td>\n",
       "      <td>Yunnan, China</td>\n",
       "      <td>3190241</td>\n",
       "    </tr>\n",
       "    <tr>\n",
       "      <th>24703</th>\n",
       "      <td>1970</td>\n",
       "      <td>2</td>\n",
       "      <td>5</td>\n",
       "      <td>03:40:03</td>\n",
       "      <td>24.3710</td>\n",
       "      <td>102.3020</td>\n",
       "      <td>23.5</td>\n",
       "      <td>5.8</td>\n",
       "      <td>Yunnan, China</td>\n",
       "      <td>3037203</td>\n",
       "    </tr>\n",
       "    <tr>\n",
       "      <th>24704</th>\n",
       "      <td>1970</td>\n",
       "      <td>1</td>\n",
       "      <td>5</td>\n",
       "      <td>11:49:10</td>\n",
       "      <td>23.9840</td>\n",
       "      <td>102.7320</td>\n",
       "      <td>15.0</td>\n",
       "      <td>5.9</td>\n",
       "      <td>Yunnan, China</td>\n",
       "      <td>388150</td>\n",
       "    </tr>\n",
       "    <tr>\n",
       "      <th>24705</th>\n",
       "      <td>1970</td>\n",
       "      <td>1</td>\n",
       "      <td>4</td>\n",
       "      <td>17:00:41</td>\n",
       "      <td>24.1850</td>\n",
       "      <td>102.5430</td>\n",
       "      <td>11.3</td>\n",
       "      <td>7.1</td>\n",
       "      <td>Yunnan, China</td>\n",
       "      <td>320441</td>\n",
       "    </tr>\n",
       "  </tbody>\n",
       "</table>\n",
       "<p>24706 rows × 10 columns</p>\n",
       "</div>"
      ],
      "text/plain": [
       "       Year  Month  Day      Time      Lat       Lon  Depth  Mag  \\\n",
       "0      2020     12   10  16:56:51  26.1587   90.5570   35.3  4.3   \n",
       "1      2020     12   10  16:33:08  37.1284   71.6137  114.5  4.2   \n",
       "2      2020     12    8  08:49:55  31.5693  104.3594   10.0  4.5   \n",
       "3      2020     12    8  05:14:35  22.1912   94.3800   91.0  5.1   \n",
       "4      2020     12    6  14:39:13  21.8358   93.4233   52.6  4.6   \n",
       "...     ...    ...  ...       ...      ...       ...    ...  ...   \n",
       "24701  1970      2   24  02:07:35  30.6070  103.2030   15.0  5.6   \n",
       "24702  1970      2    6  22:10:41  23.0830  100.7710   10.0  6.1   \n",
       "24703  1970      2    5  03:40:03  24.3710  102.3020   23.5  5.8   \n",
       "24704  1970      1    5  11:49:10  23.9840  102.7320   15.0  5.9   \n",
       "24705  1970      1    4  17:00:41  24.1850  102.5430   11.3  7.1   \n",
       "\n",
       "                               Region   Timestamp  \n",
       "0         7 km WSW of Goālpāra, India  1607619411  \n",
       "1      40 km S of Khorugh, Tajikistan  1607617988  \n",
       "2        32 km WNW of Mianyang, China  1607417395  \n",
       "3          78 km W of Monywa, Myanmar  1607404475  \n",
       "4           85 km SSE of Saiha, India  1607265553  \n",
       "...                               ...         ...  \n",
       "24701          eastern Sichuan, China     4673255  \n",
       "24702                   Yunnan, China     3190241  \n",
       "24703                   Yunnan, China     3037203  \n",
       "24704                   Yunnan, China      388150  \n",
       "24705                   Yunnan, China      320441  \n",
       "\n",
       "[24706 rows x 10 columns]"
      ]
     },
     "execution_count": 6,
     "metadata": {},
     "output_type": "execute_result"
    }
   ],
   "source": [
    "eq_df1= eq_df.copy(deep=True)\n",
    "eq_df1"
   ]
  },
  {
   "cell_type": "code",
   "execution_count": 7,
   "metadata": {},
   "outputs": [
    {
     "name": "stdout",
     "output_type": "stream",
     "text": [
      "<class 'pandas.core.frame.DataFrame'>\n",
      "RangeIndex: 24706 entries, 0 to 24705\n",
      "Data columns (total 10 columns):\n",
      " #   Column     Non-Null Count  Dtype  \n",
      "---  ------     --------------  -----  \n",
      " 0   Year       24706 non-null  int64  \n",
      " 1   Month      24706 non-null  int64  \n",
      " 2   Day        24706 non-null  int64  \n",
      " 3   Time       24706 non-null  object \n",
      " 4   Lat        24706 non-null  float64\n",
      " 5   Lon        24706 non-null  float64\n",
      " 6   Depth      24706 non-null  float64\n",
      " 7   Mag        24706 non-null  float64\n",
      " 8   Region     24706 non-null  object \n",
      " 9   Timestamp  24706 non-null  int64  \n",
      "dtypes: float64(4), int64(4), object(2)\n",
      "memory usage: 1.9+ MB\n"
     ]
    }
   ],
   "source": [
    "eq_df1.info()"
   ]
  },
  {
   "cell_type": "code",
   "execution_count": 8,
   "metadata": {},
   "outputs": [
    {
     "data": {
      "text/plain": [
       "(24706, 10)"
      ]
     },
     "execution_count": 8,
     "metadata": {},
     "output_type": "execute_result"
    }
   ],
   "source": [
    "eq_df1.shape"
   ]
  },
  {
   "cell_type": "code",
   "execution_count": 9,
   "metadata": {},
   "outputs": [
    {
     "name": "stdout",
     "output_type": "stream",
     "text": [
      "Help on method drop in module pandas.core.frame:\n",
      "\n",
      "drop(labels=None, axis=0, index=None, columns=None, level=None, inplace=False, errors='raise') method of pandas.core.frame.DataFrame instance\n",
      "    Drop specified labels from rows or columns.\n",
      "    \n",
      "    Remove rows or columns by specifying label names and corresponding\n",
      "    axis, or by specifying directly index or column names. When using a\n",
      "    multi-index, labels on different levels can be removed by specifying\n",
      "    the level.\n",
      "    \n",
      "    Parameters\n",
      "    ----------\n",
      "    labels : single label or list-like\n",
      "        Index or column labels to drop.\n",
      "    axis : {0 or 'index', 1 or 'columns'}, default 0\n",
      "        Whether to drop labels from the index (0 or 'index') or\n",
      "        columns (1 or 'columns').\n",
      "    index : single label or list-like\n",
      "        Alternative to specifying axis (``labels, axis=0``\n",
      "        is equivalent to ``index=labels``).\n",
      "    columns : single label or list-like\n",
      "        Alternative to specifying axis (``labels, axis=1``\n",
      "        is equivalent to ``columns=labels``).\n",
      "    level : int or level name, optional\n",
      "        For MultiIndex, level from which the labels will be removed.\n",
      "    inplace : bool, default False\n",
      "        If False, return a copy. Otherwise, do operation\n",
      "        inplace and return None.\n",
      "    errors : {'ignore', 'raise'}, default 'raise'\n",
      "        If 'ignore', suppress error and only existing labels are\n",
      "        dropped.\n",
      "    \n",
      "    Returns\n",
      "    -------\n",
      "    DataFrame\n",
      "        DataFrame without the removed index or column labels.\n",
      "    \n",
      "    Raises\n",
      "    ------\n",
      "    KeyError\n",
      "        If any of the labels is not found in the selected axis.\n",
      "    \n",
      "    See Also\n",
      "    --------\n",
      "    DataFrame.loc : Label-location based indexer for selection by label.\n",
      "    DataFrame.dropna : Return DataFrame with labels on given axis omitted\n",
      "        where (all or any) data are missing.\n",
      "    DataFrame.drop_duplicates : Return DataFrame with duplicate rows\n",
      "        removed, optionally only considering certain columns.\n",
      "    Series.drop : Return Series with specified index labels removed.\n",
      "    \n",
      "    Examples\n",
      "    --------\n",
      "    >>> df = pd.DataFrame(np.arange(12).reshape(3, 4),\n",
      "    ...                   columns=['A', 'B', 'C', 'D'])\n",
      "    >>> df\n",
      "       A  B   C   D\n",
      "    0  0  1   2   3\n",
      "    1  4  5   6   7\n",
      "    2  8  9  10  11\n",
      "    \n",
      "    Drop columns\n",
      "    \n",
      "    >>> df.drop(['B', 'C'], axis=1)\n",
      "       A   D\n",
      "    0  0   3\n",
      "    1  4   7\n",
      "    2  8  11\n",
      "    \n",
      "    >>> df.drop(columns=['B', 'C'])\n",
      "       A   D\n",
      "    0  0   3\n",
      "    1  4   7\n",
      "    2  8  11\n",
      "    \n",
      "    Drop a row by index\n",
      "    \n",
      "    >>> df.drop([0, 1])\n",
      "       A  B   C   D\n",
      "    2  8  9  10  11\n",
      "    \n",
      "    Drop columns and/or rows of MultiIndex DataFrame\n",
      "    \n",
      "    >>> midx = pd.MultiIndex(levels=[['lama', 'cow', 'falcon'],\n",
      "    ...                              ['speed', 'weight', 'length']],\n",
      "    ...                      codes=[[0, 0, 0, 1, 1, 1, 2, 2, 2],\n",
      "    ...                             [0, 1, 2, 0, 1, 2, 0, 1, 2]])\n",
      "    >>> df = pd.DataFrame(index=midx, columns=['big', 'small'],\n",
      "    ...                   data=[[45, 30], [200, 100], [1.5, 1], [30, 20],\n",
      "    ...                         [250, 150], [1.5, 0.8], [320, 250],\n",
      "    ...                         [1, 0.8], [0.3, 0.2]])\n",
      "    >>> df\n",
      "                    big     small\n",
      "    lama    speed   45.0    30.0\n",
      "            weight  200.0   100.0\n",
      "            length  1.5     1.0\n",
      "    cow     speed   30.0    20.0\n",
      "            weight  250.0   150.0\n",
      "            length  1.5     0.8\n",
      "    falcon  speed   320.0   250.0\n",
      "            weight  1.0     0.8\n",
      "            length  0.3     0.2\n",
      "    \n",
      "    >>> df.drop(index='cow', columns='small')\n",
      "                    big\n",
      "    lama    speed   45.0\n",
      "            weight  200.0\n",
      "            length  1.5\n",
      "    falcon  speed   320.0\n",
      "            weight  1.0\n",
      "            length  0.3\n",
      "    \n",
      "    >>> df.drop(index='length', level=1)\n",
      "                    big     small\n",
      "    lama    speed   45.0    30.0\n",
      "            weight  200.0   100.0\n",
      "    cow     speed   30.0    20.0\n",
      "            weight  250.0   150.0\n",
      "    falcon  speed   320.0   250.0\n",
      "            weight  1.0     0.8\n",
      "\n"
     ]
    }
   ],
   "source": [
    "help(eq_df1.drop)"
   ]
  },
  {
   "cell_type": "code",
   "execution_count": 10,
   "metadata": {},
   "outputs": [
    {
     "data": {
      "text/html": [
       "<div>\n",
       "<style scoped>\n",
       "    .dataframe tbody tr th:only-of-type {\n",
       "        vertical-align: middle;\n",
       "    }\n",
       "\n",
       "    .dataframe tbody tr th {\n",
       "        vertical-align: top;\n",
       "    }\n",
       "\n",
       "    .dataframe thead th {\n",
       "        text-align: right;\n",
       "    }\n",
       "</style>\n",
       "<table border=\"1\" class=\"dataframe\">\n",
       "  <thead>\n",
       "    <tr style=\"text-align: right;\">\n",
       "      <th></th>\n",
       "      <th>Year</th>\n",
       "      <th>Month</th>\n",
       "      <th>Day</th>\n",
       "      <th>Time</th>\n",
       "      <th>Lat</th>\n",
       "      <th>Lon</th>\n",
       "      <th>Depth</th>\n",
       "      <th>Mag</th>\n",
       "    </tr>\n",
       "  </thead>\n",
       "  <tbody>\n",
       "    <tr>\n",
       "      <th>0</th>\n",
       "      <td>2020</td>\n",
       "      <td>12</td>\n",
       "      <td>10</td>\n",
       "      <td>16:56:51</td>\n",
       "      <td>26.1587</td>\n",
       "      <td>90.5570</td>\n",
       "      <td>35.3</td>\n",
       "      <td>4.3</td>\n",
       "    </tr>\n",
       "    <tr>\n",
       "      <th>1</th>\n",
       "      <td>2020</td>\n",
       "      <td>12</td>\n",
       "      <td>10</td>\n",
       "      <td>16:33:08</td>\n",
       "      <td>37.1284</td>\n",
       "      <td>71.6137</td>\n",
       "      <td>114.5</td>\n",
       "      <td>4.2</td>\n",
       "    </tr>\n",
       "    <tr>\n",
       "      <th>2</th>\n",
       "      <td>2020</td>\n",
       "      <td>12</td>\n",
       "      <td>8</td>\n",
       "      <td>08:49:55</td>\n",
       "      <td>31.5693</td>\n",
       "      <td>104.3594</td>\n",
       "      <td>10.0</td>\n",
       "      <td>4.5</td>\n",
       "    </tr>\n",
       "    <tr>\n",
       "      <th>3</th>\n",
       "      <td>2020</td>\n",
       "      <td>12</td>\n",
       "      <td>8</td>\n",
       "      <td>05:14:35</td>\n",
       "      <td>22.1912</td>\n",
       "      <td>94.3800</td>\n",
       "      <td>91.0</td>\n",
       "      <td>5.1</td>\n",
       "    </tr>\n",
       "    <tr>\n",
       "      <th>4</th>\n",
       "      <td>2020</td>\n",
       "      <td>12</td>\n",
       "      <td>6</td>\n",
       "      <td>14:39:13</td>\n",
       "      <td>21.8358</td>\n",
       "      <td>93.4233</td>\n",
       "      <td>52.6</td>\n",
       "      <td>4.6</td>\n",
       "    </tr>\n",
       "    <tr>\n",
       "      <th>...</th>\n",
       "      <td>...</td>\n",
       "      <td>...</td>\n",
       "      <td>...</td>\n",
       "      <td>...</td>\n",
       "      <td>...</td>\n",
       "      <td>...</td>\n",
       "      <td>...</td>\n",
       "      <td>...</td>\n",
       "    </tr>\n",
       "    <tr>\n",
       "      <th>24701</th>\n",
       "      <td>1970</td>\n",
       "      <td>2</td>\n",
       "      <td>24</td>\n",
       "      <td>02:07:35</td>\n",
       "      <td>30.6070</td>\n",
       "      <td>103.2030</td>\n",
       "      <td>15.0</td>\n",
       "      <td>5.6</td>\n",
       "    </tr>\n",
       "    <tr>\n",
       "      <th>24702</th>\n",
       "      <td>1970</td>\n",
       "      <td>2</td>\n",
       "      <td>6</td>\n",
       "      <td>22:10:41</td>\n",
       "      <td>23.0830</td>\n",
       "      <td>100.7710</td>\n",
       "      <td>10.0</td>\n",
       "      <td>6.1</td>\n",
       "    </tr>\n",
       "    <tr>\n",
       "      <th>24703</th>\n",
       "      <td>1970</td>\n",
       "      <td>2</td>\n",
       "      <td>5</td>\n",
       "      <td>03:40:03</td>\n",
       "      <td>24.3710</td>\n",
       "      <td>102.3020</td>\n",
       "      <td>23.5</td>\n",
       "      <td>5.8</td>\n",
       "    </tr>\n",
       "    <tr>\n",
       "      <th>24704</th>\n",
       "      <td>1970</td>\n",
       "      <td>1</td>\n",
       "      <td>5</td>\n",
       "      <td>11:49:10</td>\n",
       "      <td>23.9840</td>\n",
       "      <td>102.7320</td>\n",
       "      <td>15.0</td>\n",
       "      <td>5.9</td>\n",
       "    </tr>\n",
       "    <tr>\n",
       "      <th>24705</th>\n",
       "      <td>1970</td>\n",
       "      <td>1</td>\n",
       "      <td>4</td>\n",
       "      <td>17:00:41</td>\n",
       "      <td>24.1850</td>\n",
       "      <td>102.5430</td>\n",
       "      <td>11.3</td>\n",
       "      <td>7.1</td>\n",
       "    </tr>\n",
       "  </tbody>\n",
       "</table>\n",
       "<p>24706 rows × 8 columns</p>\n",
       "</div>"
      ],
      "text/plain": [
       "       Year  Month  Day      Time      Lat       Lon  Depth  Mag\n",
       "0      2020     12   10  16:56:51  26.1587   90.5570   35.3  4.3\n",
       "1      2020     12   10  16:33:08  37.1284   71.6137  114.5  4.2\n",
       "2      2020     12    8  08:49:55  31.5693  104.3594   10.0  4.5\n",
       "3      2020     12    8  05:14:35  22.1912   94.3800   91.0  5.1\n",
       "4      2020     12    6  14:39:13  21.8358   93.4233   52.6  4.6\n",
       "...     ...    ...  ...       ...      ...       ...    ...  ...\n",
       "24701  1970      2   24  02:07:35  30.6070  103.2030   15.0  5.6\n",
       "24702  1970      2    6  22:10:41  23.0830  100.7710   10.0  6.1\n",
       "24703  1970      2    5  03:40:03  24.3710  102.3020   23.5  5.8\n",
       "24704  1970      1    5  11:49:10  23.9840  102.7320   15.0  5.9\n",
       "24705  1970      1    4  17:00:41  24.1850  102.5430   11.3  7.1\n",
       "\n",
       "[24706 rows x 8 columns]"
      ]
     },
     "execution_count": 10,
     "metadata": {},
     "output_type": "execute_result"
    }
   ],
   "source": [
    "#dropping two last columns!\n",
    "eq_df2= eq_df1.drop([\"Region\", \"Timestamp\"], axis=1)\n",
    "eq_df2"
   ]
  },
  {
   "cell_type": "code",
   "execution_count": 11,
   "metadata": {},
   "outputs": [
    {
     "data": {
      "text/plain": [
       "Index(['Year', 'Month', 'Day', 'Time', 'Lat', 'Lon', 'Depth', 'Mag'], dtype='object')"
      ]
     },
     "execution_count": 11,
     "metadata": {},
     "output_type": "execute_result"
    }
   ],
   "source": [
    "eq_df2.columns"
   ]
  },
  {
   "cell_type": "code",
   "execution_count": 12,
   "metadata": {},
   "outputs": [
    {
     "data": {
      "text/plain": [
       "24706"
      ]
     },
     "execution_count": 12,
     "metadata": {},
     "output_type": "execute_result"
    }
   ],
   "source": [
    "num_rows= len(eq_df2.index)\n",
    "num_rows"
   ]
  },
  {
   "cell_type": "code",
   "execution_count": 13,
   "metadata": {},
   "outputs": [
    {
     "data": {
      "text/plain": [
       "Index(['Year', 'Month', 'Day', 'Time', 'Lat', 'Lon', 'Depth'], dtype='object')"
      ]
     },
     "execution_count": 13,
     "metadata": {},
     "output_type": "execute_result"
    }
   ],
   "source": [
    "input_cols =eq_df2.columns[:7]    #excluding Region column!\n",
    "input_cols"
   ]
  },
  {
   "cell_type": "code",
   "execution_count": 14,
   "metadata": {},
   "outputs": [
    {
     "data": {
      "text/plain": [
       "['Mag']"
      ]
     },
     "execution_count": 14,
     "metadata": {},
     "output_type": "execute_result"
    }
   ],
   "source": [
    "output_cols =[eq_df2.columns[-1]]     # make sure it's a list! \n",
    "output_cols"
   ]
  },
  {
   "cell_type": "code",
   "execution_count": 15,
   "metadata": {},
   "outputs": [
    {
     "data": {
      "text/plain": [
       "1"
      ]
     },
     "execution_count": 15,
     "metadata": {},
     "output_type": "execute_result"
    }
   ],
   "source": [
    "len(output_cols)"
   ]
  },
  {
   "cell_type": "code",
   "execution_count": 16,
   "metadata": {},
   "outputs": [
    {
     "data": {
      "text/plain": [
       "7.9"
      ]
     },
     "execution_count": 16,
     "metadata": {},
     "output_type": "execute_result"
    }
   ],
   "source": [
    "eq_df2.Mag.max()"
   ]
  },
  {
   "cell_type": "code",
   "execution_count": 17,
   "metadata": {},
   "outputs": [
    {
     "data": {
      "text/plain": [
       "1.7"
      ]
     },
     "execution_count": 17,
     "metadata": {},
     "output_type": "execute_result"
    }
   ],
   "source": [
    "eq_df2.Mag.min()"
   ]
  },
  {
   "cell_type": "code",
   "execution_count": 18,
   "metadata": {},
   "outputs": [
    {
     "data": {
      "text/plain": [
       "4.393183841981726"
      ]
     },
     "execution_count": 18,
     "metadata": {},
     "output_type": "execute_result"
    }
   ],
   "source": [
    "eq_df2.Mag.mean()"
   ]
  },
  {
   "cell_type": "code",
   "execution_count": 19,
   "metadata": {},
   "outputs": [
    {
     "data": {
      "text/plain": [
       "Year       int64\n",
       "Month      int64\n",
       "Day        int64\n",
       "Time      object\n",
       "Lat      float64\n",
       "Lon      float64\n",
       "Depth    float64\n",
       "Mag      float64\n",
       "dtype: object"
      ]
     },
     "execution_count": 19,
     "metadata": {},
     "output_type": "execute_result"
    }
   ],
   "source": [
    "eq_df2.dtypes"
   ]
  },
  {
   "cell_type": "code",
   "execution_count": 20,
   "metadata": {},
   "outputs": [
    {
     "data": {
      "text/plain": [
       "Year     False\n",
       "Month    False\n",
       "Day      False\n",
       "Time      True\n",
       "Lat      False\n",
       "Lon      False\n",
       "Depth    False\n",
       "Mag      False\n",
       "dtype: bool"
      ]
     },
     "execution_count": 20,
     "metadata": {},
     "output_type": "execute_result"
    }
   ],
   "source": [
    "#finding out is there any column has the dtype object..it will represent those columns TRUE!\n",
    "eq_df2.dtypes==np.object"
   ]
  },
  {
   "cell_type": "code",
   "execution_count": 21,
   "metadata": {},
   "outputs": [],
   "source": [
    "#converting dtype object to category!\n",
    "eq_df2[\"Time\"]= eq_df2.Time.astype(\"category\").cat.codes"
   ]
  },
  {
   "cell_type": "code",
   "execution_count": 22,
   "metadata": {},
   "outputs": [
    {
     "data": {
      "text/plain": [
       "Year       int64\n",
       "Month      int64\n",
       "Day        int64\n",
       "Time       int16\n",
       "Lat      float64\n",
       "Lon      float64\n",
       "Depth    float64\n",
       "Mag      float64\n",
       "dtype: object"
      ]
     },
     "execution_count": 22,
     "metadata": {},
     "output_type": "execute_result"
    }
   ],
   "source": [
    "eq_df2.dtypes"
   ]
  },
  {
   "cell_type": "code",
   "execution_count": 23,
   "metadata": {},
   "outputs": [
    {
     "name": "stderr",
     "output_type": "stream",
     "text": [
      "/opt/conda/lib/python3.8/site-packages/seaborn/distributions.py:2551: FutureWarning: `distplot` is a deprecated function and will be removed in a future version. Please adapt your code to use either `displot` (a figure-level function with similar flexibility) or `histplot` (an axes-level function for histograms).\n",
      "  warnings.warn(msg, FutureWarning)\n"
     ]
    },
    {
     "data": {
      "image/png": "[encoded data removed]",
      "text/plain": [
       "<Figure size 720x432 with 1 Axes>"
      ]
     },
     "metadata": {
      "needs_background": "light"
     },
     "output_type": "display_data"
    }
   ],
   "source": [
    "plt.figure(figsize=(10, 6))\n",
    "sns.distplot(eq_df1.Mag)\n",
    "plt.grid()\n"
   ]
  },
  {
   "cell_type": "code",
   "execution_count": 24,
   "metadata": {},
   "outputs": [
    {
     "data": {
      "text/html": [
       "<div>\n",
       "<style scoped>\n",
       "    .dataframe tbody tr th:only-of-type {\n",
       "        vertical-align: middle;\n",
       "    }\n",
       "\n",
       "    .dataframe tbody tr th {\n",
       "        vertical-align: top;\n",
       "    }\n",
       "\n",
       "    .dataframe thead th {\n",
       "        text-align: right;\n",
       "    }\n",
       "</style>\n",
       "<table border=\"1\" class=\"dataframe\">\n",
       "  <thead>\n",
       "    <tr style=\"text-align: right;\">\n",
       "      <th></th>\n",
       "      <th>Year</th>\n",
       "      <th>Month</th>\n",
       "      <th>Day</th>\n",
       "      <th>Time</th>\n",
       "      <th>Lat</th>\n",
       "      <th>Lon</th>\n",
       "      <th>Depth</th>\n",
       "    </tr>\n",
       "  </thead>\n",
       "  <tbody>\n",
       "    <tr>\n",
       "      <th>0</th>\n",
       "      <td>2020</td>\n",
       "      <td>12</td>\n",
       "      <td>10</td>\n",
       "      <td>14968</td>\n",
       "      <td>26.1587</td>\n",
       "      <td>90.5570</td>\n",
       "      <td>35.3</td>\n",
       "    </tr>\n",
       "    <tr>\n",
       "      <th>1</th>\n",
       "      <td>2020</td>\n",
       "      <td>12</td>\n",
       "      <td>10</td>\n",
       "      <td>14595</td>\n",
       "      <td>37.1284</td>\n",
       "      <td>71.6137</td>\n",
       "      <td>114.5</td>\n",
       "    </tr>\n",
       "    <tr>\n",
       "      <th>2</th>\n",
       "      <td>2020</td>\n",
       "      <td>12</td>\n",
       "      <td>8</td>\n",
       "      <td>7709</td>\n",
       "      <td>31.5693</td>\n",
       "      <td>104.3594</td>\n",
       "      <td>10.0</td>\n",
       "    </tr>\n",
       "    <tr>\n",
       "      <th>3</th>\n",
       "      <td>2020</td>\n",
       "      <td>12</td>\n",
       "      <td>8</td>\n",
       "      <td>4719</td>\n",
       "      <td>22.1912</td>\n",
       "      <td>94.3800</td>\n",
       "      <td>91.0</td>\n",
       "    </tr>\n",
       "    <tr>\n",
       "      <th>4</th>\n",
       "      <td>2020</td>\n",
       "      <td>12</td>\n",
       "      <td>6</td>\n",
       "      <td>12807</td>\n",
       "      <td>21.8358</td>\n",
       "      <td>93.4233</td>\n",
       "      <td>52.6</td>\n",
       "    </tr>\n",
       "    <tr>\n",
       "      <th>...</th>\n",
       "      <td>...</td>\n",
       "      <td>...</td>\n",
       "      <td>...</td>\n",
       "      <td>...</td>\n",
       "      <td>...</td>\n",
       "      <td>...</td>\n",
       "      <td>...</td>\n",
       "    </tr>\n",
       "    <tr>\n",
       "      <th>24701</th>\n",
       "      <td>1970</td>\n",
       "      <td>2</td>\n",
       "      <td>24</td>\n",
       "      <td>1981</td>\n",
       "      <td>30.6070</td>\n",
       "      <td>103.2030</td>\n",
       "      <td>15.0</td>\n",
       "    </tr>\n",
       "    <tr>\n",
       "      <th>24702</th>\n",
       "      <td>1970</td>\n",
       "      <td>2</td>\n",
       "      <td>6</td>\n",
       "      <td>19830</td>\n",
       "      <td>23.0830</td>\n",
       "      <td>100.7710</td>\n",
       "      <td>10.0</td>\n",
       "    </tr>\n",
       "    <tr>\n",
       "      <th>24703</th>\n",
       "      <td>1970</td>\n",
       "      <td>2</td>\n",
       "      <td>5</td>\n",
       "      <td>3368</td>\n",
       "      <td>24.3710</td>\n",
       "      <td>102.3020</td>\n",
       "      <td>23.5</td>\n",
       "    </tr>\n",
       "    <tr>\n",
       "      <th>24704</th>\n",
       "      <td>1970</td>\n",
       "      <td>1</td>\n",
       "      <td>5</td>\n",
       "      <td>10224</td>\n",
       "      <td>23.9840</td>\n",
       "      <td>102.7320</td>\n",
       "      <td>15.0</td>\n",
       "    </tr>\n",
       "    <tr>\n",
       "      <th>24705</th>\n",
       "      <td>1970</td>\n",
       "      <td>1</td>\n",
       "      <td>4</td>\n",
       "      <td>15019</td>\n",
       "      <td>24.1850</td>\n",
       "      <td>102.5430</td>\n",
       "      <td>11.3</td>\n",
       "    </tr>\n",
       "  </tbody>\n",
       "</table>\n",
       "<p>24706 rows × 7 columns</p>\n",
       "</div>"
      ],
      "text/plain": [
       "       Year  Month  Day   Time      Lat       Lon  Depth\n",
       "0      2020     12   10  14968  26.1587   90.5570   35.3\n",
       "1      2020     12   10  14595  37.1284   71.6137  114.5\n",
       "2      2020     12    8   7709  31.5693  104.3594   10.0\n",
       "3      2020     12    8   4719  22.1912   94.3800   91.0\n",
       "4      2020     12    6  12807  21.8358   93.4233   52.6\n",
       "...     ...    ...  ...    ...      ...       ...    ...\n",
       "24701  1970      2   24   1981  30.6070  103.2030   15.0\n",
       "24702  1970      2    6  19830  23.0830  100.7710   10.0\n",
       "24703  1970      2    5   3368  24.3710  102.3020   23.5\n",
       "24704  1970      1    5  10224  23.9840  102.7320   15.0\n",
       "24705  1970      1    4  15019  24.1850  102.5430   11.3\n",
       "\n",
       "[24706 rows x 7 columns]"
      ]
     },
     "execution_count": 24,
     "metadata": {},
     "output_type": "execute_result"
    }
   ],
   "source": [
    "eq_df2[input_cols]"
   ]
  },
  {
   "cell_type": "code",
   "execution_count": 25,
   "metadata": {},
   "outputs": [
    {
     "data": {
      "text/plain": [
       "array([[2.020000e+03, 1.200000e+01, 1.000000e+01, ..., 2.615870e+01,\n",
       "        9.055700e+01, 3.530000e+01],\n",
       "       [2.020000e+03, 1.200000e+01, 1.000000e+01, ..., 3.712840e+01,\n",
       "        7.161370e+01, 1.145000e+02],\n",
       "       [2.020000e+03, 1.200000e+01, 8.000000e+00, ..., 3.156930e+01,\n",
       "        1.043594e+02, 1.000000e+01],\n",
       "       ...,\n",
       "       [1.970000e+03, 2.000000e+00, 5.000000e+00, ..., 2.437100e+01,\n",
       "        1.023020e+02, 2.350000e+01],\n",
       "       [1.970000e+03, 1.000000e+00, 5.000000e+00, ..., 2.398400e+01,\n",
       "        1.027320e+02, 1.500000e+01],\n",
       "       [1.970000e+03, 1.000000e+00, 4.000000e+00, ..., 2.418500e+01,\n",
       "        1.025430e+02, 1.130000e+01]])"
      ]
     },
     "execution_count": 25,
     "metadata": {},
     "output_type": "execute_result"
    }
   ],
   "source": [
    "inputs_array= eq_df2[input_cols].to_numpy()\n",
    "inputs_array"
   ]
  },
  {
   "cell_type": "code",
   "execution_count": 26,
   "metadata": {},
   "outputs": [
    {
     "data": {
      "text/plain": [
       "array([[4.3],\n",
       "       [4.2],\n",
       "       [4.5],\n",
       "       ...,\n",
       "       [5.8],\n",
       "       [5.9],\n",
       "       [7.1]])"
      ]
     },
     "execution_count": 26,
     "metadata": {},
     "output_type": "execute_result"
    }
   ],
   "source": [
    "targets_array= eq_df2[output_cols].to_numpy()\n",
    "targets_array"
   ]
  },
  {
   "cell_type": "code",
   "execution_count": 27,
   "metadata": {},
   "outputs": [
    {
     "data": {
      "text/plain": [
       "tensor([[2.0200e+03, 1.2000e+01, 1.0000e+01,  ..., 2.6159e+01, 9.0557e+01,\n",
       "         3.5300e+01],\n",
       "        [2.0200e+03, 1.2000e+01, 1.0000e+01,  ..., 3.7128e+01, 7.1614e+01,\n",
       "         1.1450e+02],\n",
       "        [2.0200e+03, 1.2000e+01, 8.0000e+00,  ..., 3.1569e+01, 1.0436e+02,\n",
       "         1.0000e+01],\n",
       "        ...,\n",
       "        [1.9700e+03, 2.0000e+00, 5.0000e+00,  ..., 2.4371e+01, 1.0230e+02,\n",
       "         2.3500e+01],\n",
       "        [1.9700e+03, 1.0000e+00, 5.0000e+00,  ..., 2.3984e+01, 1.0273e+02,\n",
       "         1.5000e+01],\n",
       "        [1.9700e+03, 1.0000e+00, 4.0000e+00,  ..., 2.4185e+01, 1.0254e+02,\n",
       "         1.1300e+01]], dtype=torch.float64)"
      ]
     },
     "execution_count": 27,
     "metadata": {},
     "output_type": "execute_result"
    }
   ],
   "source": [
    "#converting inputs_array and targets_array to tensors!\n",
    "inputs=torch.from_numpy(inputs_array)\n",
    "inputs"
   ]
  },
  {
   "cell_type": "code",
   "execution_count": 28,
   "metadata": {},
   "outputs": [
    {
     "data": {
      "text/plain": [
       "tensor([[4.3000],\n",
       "        [4.2000],\n",
       "        [4.5000],\n",
       "        ...,\n",
       "        [5.8000],\n",
       "        [5.9000],\n",
       "        [7.1000]], dtype=torch.float64)"
      ]
     },
     "execution_count": 28,
     "metadata": {},
     "output_type": "execute_result"
    }
   ],
   "source": [
    "targets= torch.from_numpy(targets_array)\n",
    "targets"
   ]
  },
  {
   "cell_type": "markdown",
   "metadata": {},
   "source": [
    "Note: why are we using float32? \n",
    " check this out:   https://www.quora.com/When-should-I-use-tf-float32-vs-tf-float64-in-TensorFlow"
   ]
  },
  {
   "cell_type": "code",
   "execution_count": 29,
   "metadata": {},
   "outputs": [
    {
     "data": {
      "text/plain": [
       "tensor([[2.0200e+03, 1.2000e+01, 1.0000e+01,  ..., 2.6159e+01, 9.0557e+01,\n",
       "         3.5300e+01],\n",
       "        [2.0200e+03, 1.2000e+01, 1.0000e+01,  ..., 3.7128e+01, 7.1614e+01,\n",
       "         1.1450e+02],\n",
       "        [2.0200e+03, 1.2000e+01, 8.0000e+00,  ..., 3.1569e+01, 1.0436e+02,\n",
       "         1.0000e+01],\n",
       "        ...,\n",
       "        [1.9700e+03, 2.0000e+00, 5.0000e+00,  ..., 2.4371e+01, 1.0230e+02,\n",
       "         2.3500e+01],\n",
       "        [1.9700e+03, 1.0000e+00, 5.0000e+00,  ..., 2.3984e+01, 1.0273e+02,\n",
       "         1.5000e+01],\n",
       "        [1.9700e+03, 1.0000e+00, 4.0000e+00,  ..., 2.4185e+01, 1.0254e+02,\n",
       "         1.1300e+01]])"
      ]
     },
     "execution_count": 29,
     "metadata": {},
     "output_type": "execute_result"
    }
   ],
   "source": [
    "inputs=torch.from_numpy(inputs_array).float()     #using .float() to get the float32!\n",
    "inputs"
   ]
  },
  {
   "cell_type": "code",
   "execution_count": 30,
   "metadata": {},
   "outputs": [
    {
     "data": {
      "text/plain": [
       "torch.float32"
      ]
     },
     "execution_count": 30,
     "metadata": {},
     "output_type": "execute_result"
    }
   ],
   "source": [
    "inputs.dtype    #checking"
   ]
  },
  {
   "cell_type": "code",
   "execution_count": 31,
   "metadata": {},
   "outputs": [
    {
     "data": {
      "text/plain": [
       "tensor([[4.3000],\n",
       "        [4.2000],\n",
       "        [4.5000],\n",
       "        ...,\n",
       "        [5.8000],\n",
       "        [5.9000],\n",
       "        [7.1000]])"
      ]
     },
     "execution_count": 31,
     "metadata": {},
     "output_type": "execute_result"
    }
   ],
   "source": [
    "targets= torch.from_numpy(targets_array).float()\n",
    "targets"
   ]
  },
  {
   "cell_type": "code",
   "execution_count": 32,
   "metadata": {},
   "outputs": [
    {
     "data": {
      "text/plain": [
       "torch.float32"
      ]
     },
     "execution_count": 32,
     "metadata": {},
     "output_type": "execute_result"
    }
   ],
   "source": [
    "targets.dtype"
   ]
  },
  {
   "cell_type": "markdown",
   "metadata": {},
   "source": [
    "Now we need to craete pytorch datasets & dataloaders for training & validation. We are gonna create a TensorDataset!"
   ]
  },
  {
   "cell_type": "code",
   "execution_count": 33,
   "metadata": {},
   "outputs": [
    {
     "data": {
      "text/plain": [
       "<torch.utils.data.dataset.TensorDataset at 0x7f37deb2feb0>"
      ]
     },
     "execution_count": 33,
     "metadata": {},
     "output_type": "execute_result"
    }
   ],
   "source": [
    "TensorDataset(inputs, targets)"
   ]
  },
  {
   "cell_type": "code",
   "execution_count": 34,
   "metadata": {},
   "outputs": [],
   "source": [
    "dataset =TensorDataset(inputs, targets)"
   ]
  },
  {
   "cell_type": "code",
   "execution_count": 35,
   "metadata": {},
   "outputs": [
    {
     "data": {
      "text/plain": [
       "24706"
      ]
     },
     "execution_count": 35,
     "metadata": {},
     "output_type": "execute_result"
    }
   ],
   "source": [
    "#picking a val_percent between 0.1 and 0.2 to determine the fraction of data that will be used for creating the validation set. Then use random_split to create training & validation datasets.\n",
    "val_percent =0.1 #between 0.1 an d 0.2\n",
    "num_rows"
   ]
  },
  {
   "cell_type": "code",
   "execution_count": 36,
   "metadata": {},
   "outputs": [
    {
     "data": {
      "text/plain": [
       "2470.6000000000004"
      ]
     },
     "execution_count": 36,
     "metadata": {},
     "output_type": "execute_result"
    }
   ],
   "source": [
    "num_rows*val_percent"
   ]
  },
  {
   "cell_type": "code",
   "execution_count": 37,
   "metadata": {},
   "outputs": [
    {
     "data": {
      "text/plain": [
       "2470"
      ]
     },
     "execution_count": 37,
     "metadata": {},
     "output_type": "execute_result"
    }
   ],
   "source": [
    "int(num_rows*val_percent)"
   ]
  },
  {
   "cell_type": "code",
   "execution_count": 38,
   "metadata": {},
   "outputs": [
    {
     "data": {
      "text/plain": [
       "22236"
      ]
     },
     "execution_count": 38,
     "metadata": {},
     "output_type": "execute_result"
    }
   ],
   "source": [
    "val_percent =0.1\n",
    "val_size =int(num_rows*val_percent)\n",
    "train_size= num_rows - val_size\n",
    "train_size"
   ]
  },
  {
   "cell_type": "code",
   "execution_count": 39,
   "metadata": {},
   "outputs": [],
   "source": [
    "# Use the random_split function to split dataset into 2 parts of the desired length\n",
    "train_ds, val_ds=random_split(dataset, [train_size, val_size])"
   ]
  },
  {
   "cell_type": "markdown",
   "metadata": {},
   "source": [
    "Now, we can create Data Loaders for training & validation!"
   ]
  },
  {
   "cell_type": "code",
   "execution_count": 40,
   "metadata": {},
   "outputs": [],
   "source": [
    "#picking  a batch size!\n",
    "batch_size =600"
   ]
  },
  {
   "cell_type": "markdown",
   "metadata": {},
   "source": [
    "Note: check this out to know more about DataLoader in details: \n",
    "https://pytorch.org/docs/stable/data.html#torch.utils.data.DataLoader\n",
    "\n",
    "DataLoader(dataset, batch_size=1, shuffle=False, sampler=None,\n",
    "           batch_sampler=None, num_workers=0, collate_fn=None,\n",
    "           pin_memory=False, drop_last=False, timeout=0,\n",
    "           worker_init_fn=None, *, prefetch_factor=2,\n",
    "           persistent_workers=False)"
   ]
  },
  {
   "cell_type": "code",
   "execution_count": 41,
   "metadata": {},
   "outputs": [],
   "source": [
    "train_loader =DataLoader(train_ds, batch_size, shuffle=True)\n",
    "val_loader = DataLoader(val_ds, batch_size)"
   ]
  },
  {
   "cell_type": "code",
   "execution_count": 42,
   "metadata": {},
   "outputs": [
    {
     "name": "stdout",
     "output_type": "stream",
     "text": [
      "inputs: tensor([[2001.0000,    8.0000,   26.0000,  ...,   36.4250,   70.7650,\n",
      "          200.0000],\n",
      "        [1999.0000,    8.0000,   15.0000,  ...,   18.3890,   96.2280,\n",
      "           18.4000],\n",
      "        [1997.0000,   12.0000,   30.0000,  ...,   25.3620,   96.5710,\n",
      "           33.0000],\n",
      "        ...,\n",
      "        [2008.0000,    7.0000,   18.0000,  ...,   32.3900,  105.3430,\n",
      "           10.0000],\n",
      "        [2013.0000,   11.0000,   17.0000,  ...,   36.5095,   70.3418,\n",
      "          195.7000],\n",
      "        [1983.0000,   12.0000,   31.0000,  ...,   36.7850,   70.5370,\n",
      "          147.3000]])\n",
      "targets: tensor([[4.1000],\n",
      "        [5.2000],\n",
      "        [4.7000],\n",
      "        [4.0000],\n",
      "        [5.2000],\n",
      "        [5.3000],\n",
      "        [4.4000],\n",
      "        [4.4000],\n",
      "        [4.8000],\n",
      "        [3.1000],\n",
      "        [4.7000],\n",
      "        [3.9000],\n",
      "        [3.4000],\n",
      "        [4.7000],\n",
      "        [4.2000],\n",
      "        [4.3000],\n",
      "        [3.7000],\n",
      "        [4.8000],\n",
      "        [3.8000],\n",
      "        [3.8000],\n",
      "        [4.4000],\n",
      "        [3.9000],\n",
      "        [4.4000],\n",
      "        [4.0000],\n",
      "        [4.2000],\n",
      "        [4.4000],\n",
      "        [4.2000],\n",
      "        [4.0000],\n",
      "        [3.9000],\n",
      "        [4.5000],\n",
      "        [4.2000],\n",
      "        [4.5000],\n",
      "        [4.9000],\n",
      "        [4.5000],\n",
      "        [4.0000],\n",
      "        [4.0000],\n",
      "        [4.2000],\n",
      "        [4.5000],\n",
      "        [3.5000],\n",
      "        [3.9000],\n",
      "        [4.8000],\n",
      "        [4.1000],\n",
      "        [5.8000],\n",
      "        [5.0000],\n",
      "        [4.5000],\n",
      "        [5.3000],\n",
      "        [5.1000],\n",
      "        [4.8000],\n",
      "        [4.0000],\n",
      "        [4.7000],\n",
      "        [4.2000],\n",
      "        [4.2000],\n",
      "        [4.4000],\n",
      "        [4.7000],\n",
      "        [5.1000],\n",
      "        [4.2000],\n",
      "        [4.8000],\n",
      "        [3.8000],\n",
      "        [3.9000],\n",
      "        [4.3000],\n",
      "        [5.6000],\n",
      "        [4.6000],\n",
      "        [4.3000],\n",
      "        [4.5000],\n",
      "        [4.9000],\n",
      "        [4.2000],\n",
      "        [6.3000],\n",
      "        [4.4000],\n",
      "        [4.3000],\n",
      "        [4.7000],\n",
      "        [4.1000],\n",
      "        [4.3000],\n",
      "        [4.0000],\n",
      "        [4.3000],\n",
      "        [4.4000],\n",
      "        [4.8000],\n",
      "        [3.9000],\n",
      "        [4.6000],\n",
      "        [4.5000],\n",
      "        [4.6000],\n",
      "        [4.6000],\n",
      "        [3.6000],\n",
      "        [4.8000],\n",
      "        [5.0000],\n",
      "        [4.0000],\n",
      "        [4.3000],\n",
      "        [4.3000],\n",
      "        [4.1000],\n",
      "        [4.0000],\n",
      "        [4.5000],\n",
      "        [3.4000],\n",
      "        [4.4000],\n",
      "        [5.2000],\n",
      "        [4.2000],\n",
      "        [4.2000],\n",
      "        [5.3000],\n",
      "        [4.1000],\n",
      "        [3.8000],\n",
      "        [4.5000],\n",
      "        [4.3000],\n",
      "        [3.9000],\n",
      "        [3.2000],\n",
      "        [4.7000],\n",
      "        [3.8000],\n",
      "        [3.5000],\n",
      "        [4.9000],\n",
      "        [4.2000],\n",
      "        [3.9000],\n",
      "        [3.9000],\n",
      "        [4.9000],\n",
      "        [4.2000],\n",
      "        [4.1000],\n",
      "        [4.6000],\n",
      "        [4.2000],\n",
      "        [6.7000],\n",
      "        [4.5000],\n",
      "        [4.7000],\n",
      "        [3.7000],\n",
      "        [4.2000],\n",
      "        [4.1000],\n",
      "        [4.0000],\n",
      "        [4.3000],\n",
      "        [4.6000],\n",
      "        [4.5000],\n",
      "        [3.6000],\n",
      "        [3.9000],\n",
      "        [4.6000],\n",
      "        [4.4000],\n",
      "        [4.4000],\n",
      "        [4.2000],\n",
      "        [4.4000],\n",
      "        [4.4000],\n",
      "        [4.2000],\n",
      "        [4.6000],\n",
      "        [4.2000],\n",
      "        [4.7000],\n",
      "        [4.2000],\n",
      "        [3.3000],\n",
      "        [3.7000],\n",
      "        [4.2000],\n",
      "        [4.9000],\n",
      "        [4.4000],\n",
      "        [4.2000],\n",
      "        [4.4000],\n",
      "        [4.2000],\n",
      "        [4.9000],\n",
      "        [3.9000],\n",
      "        [3.9000],\n",
      "        [4.4000],\n",
      "        [4.5000],\n",
      "        [4.5000],\n",
      "        [4.1000],\n",
      "        [4.1000],\n",
      "        [3.5000],\n",
      "        [4.9000],\n",
      "        [4.3000],\n",
      "        [4.9000],\n",
      "        [4.2000],\n",
      "        [4.2000],\n",
      "        [4.9000],\n",
      "        [5.1000],\n",
      "        [3.4000],\n",
      "        [3.8000],\n",
      "        [4.2000],\n",
      "        [4.7000],\n",
      "        [4.8000],\n",
      "        [4.3000],\n",
      "        [5.0000],\n",
      "        [4.3000],\n",
      "        [4.8000],\n",
      "        [4.3000],\n",
      "        [4.6000],\n",
      "        [5.0000],\n",
      "        [4.1000],\n",
      "        [4.0000],\n",
      "        [4.0000],\n",
      "        [4.9000],\n",
      "        [3.4000],\n",
      "        [4.5000],\n",
      "        [6.2000],\n",
      "        [4.3000],\n",
      "        [3.9000],\n",
      "        [4.3000],\n",
      "        [4.6000],\n",
      "        [5.2000],\n",
      "        [4.4000],\n",
      "        [4.7000],\n",
      "        [4.6000],\n",
      "        [4.6000],\n",
      "        [4.5000],\n",
      "        [4.3000],\n",
      "        [3.5000],\n",
      "        [4.1000],\n",
      "        [5.3000],\n",
      "        [4.6000],\n",
      "        [3.3000],\n",
      "        [5.0000],\n",
      "        [4.3000],\n",
      "        [4.0000],\n",
      "        [3.4000],\n",
      "        [6.9000],\n",
      "        [4.3000],\n",
      "        [4.9000],\n",
      "        [5.7000],\n",
      "        [4.4000],\n",
      "        [4.1000],\n",
      "        [4.4000],\n",
      "        [3.5000],\n",
      "        [4.4000],\n",
      "        [4.3000],\n",
      "        [5.1000],\n",
      "        [4.1000],\n",
      "        [4.5000],\n",
      "        [4.3000],\n",
      "        [4.0000],\n",
      "        [5.1000],\n",
      "        [3.7000],\n",
      "        [4.6000],\n",
      "        [3.8000],\n",
      "        [3.6000],\n",
      "        [3.9000],\n",
      "        [4.6000],\n",
      "        [4.5000],\n",
      "        [4.2000],\n",
      "        [4.2000],\n",
      "        [4.6000],\n",
      "        [4.0000],\n",
      "        [4.1000],\n",
      "        [6.0000],\n",
      "        [3.7000],\n",
      "        [4.3000],\n",
      "        [4.0000],\n",
      "        [4.6000],\n",
      "        [4.1000],\n",
      "        [4.4000],\n",
      "        [5.2000],\n",
      "        [5.9000],\n",
      "        [3.7000],\n",
      "        [4.2000],\n",
      "        [4.4000],\n",
      "        [4.5000],\n",
      "        [3.9000],\n",
      "        [4.9000],\n",
      "        [4.2000],\n",
      "        [4.5000],\n",
      "        [4.3000],\n",
      "        [4.5000],\n",
      "        [5.3000],\n",
      "        [3.8000],\n",
      "        [3.9000],\n",
      "        [4.3000],\n",
      "        [3.5000],\n",
      "        [4.3000],\n",
      "        [4.2000],\n",
      "        [4.8000],\n",
      "        [4.0000],\n",
      "        [4.5000],\n",
      "        [5.1000],\n",
      "        [3.3000],\n",
      "        [4.1000],\n",
      "        [4.2000],\n",
      "        [4.1000],\n",
      "        [4.1000],\n",
      "        [4.0000],\n",
      "        [4.5000],\n",
      "        [4.5000],\n",
      "        [4.1000],\n",
      "        [3.6000],\n",
      "        [4.7000],\n",
      "        [4.0000],\n",
      "        [4.3000],\n",
      "        [4.8000],\n",
      "        [4.1000],\n",
      "        [4.6000],\n",
      "        [4.8000],\n",
      "        [4.4000],\n",
      "        [3.9000],\n",
      "        [4.3000],\n",
      "        [4.0000],\n",
      "        [4.7000],\n",
      "        [4.6000],\n",
      "        [4.8000],\n",
      "        [4.7000],\n",
      "        [4.3000],\n",
      "        [4.8000],\n",
      "        [4.1000],\n",
      "        [4.2000],\n",
      "        [4.4000],\n",
      "        [5.0000],\n",
      "        [4.2000],\n",
      "        [4.9000],\n",
      "        [4.4000],\n",
      "        [4.1000],\n",
      "        [4.0000],\n",
      "        [4.0000],\n",
      "        [3.5000],\n",
      "        [3.9000],\n",
      "        [5.1000],\n",
      "        [4.3000],\n",
      "        [4.2000],\n",
      "        [3.7000],\n",
      "        [3.8000],\n",
      "        [4.7000],\n",
      "        [4.1000],\n",
      "        [3.6000],\n",
      "        [4.5000],\n",
      "        [4.2000],\n",
      "        [4.0000],\n",
      "        [4.3000],\n",
      "        [4.1000],\n",
      "        [4.0000],\n",
      "        [5.0000],\n",
      "        [4.5000],\n",
      "        [4.7000],\n",
      "        [4.0000],\n",
      "        [4.9000],\n",
      "        [4.6000],\n",
      "        [4.9000],\n",
      "        [4.1000],\n",
      "        [3.7000],\n",
      "        [4.4000],\n",
      "        [4.3000],\n",
      "        [4.4000],\n",
      "        [4.7000],\n",
      "        [4.5000],\n",
      "        [3.9000],\n",
      "        [6.2000],\n",
      "        [4.1000],\n",
      "        [4.3000],\n",
      "        [4.0000],\n",
      "        [4.2000],\n",
      "        [4.7000],\n",
      "        [4.4000],\n",
      "        [3.7000],\n",
      "        [4.2000],\n",
      "        [3.9000],\n",
      "        [4.5000],\n",
      "        [4.9000],\n",
      "        [4.4000],\n",
      "        [4.4000],\n",
      "        [3.4000],\n",
      "        [4.0000],\n",
      "        [4.0000],\n",
      "        [4.2000],\n",
      "        [4.7000],\n",
      "        [4.2000],\n",
      "        [4.4000],\n",
      "        [4.0000],\n",
      "        [4.5000],\n",
      "        [4.4000],\n",
      "        [4.0000],\n",
      "        [3.5000],\n",
      "        [4.7000],\n",
      "        [4.4000],\n",
      "        [4.6000],\n",
      "        [4.9000],\n",
      "        [3.9000],\n",
      "        [3.7000],\n",
      "        [4.3000],\n",
      "        [3.9000],\n",
      "        [5.9000],\n",
      "        [4.4000],\n",
      "        [4.4000],\n",
      "        [4.3000],\n",
      "        [4.4000],\n",
      "        [5.4000],\n",
      "        [4.0000],\n",
      "        [4.2000],\n",
      "        [5.1000],\n",
      "        [4.8000],\n",
      "        [4.2000],\n",
      "        [4.2000],\n",
      "        [4.1000],\n",
      "        [4.2000],\n",
      "        [4.2000],\n",
      "        [4.3000],\n",
      "        [4.0000],\n",
      "        [4.5000],\n",
      "        [4.6000],\n",
      "        [3.8000],\n",
      "        [4.8000],\n",
      "        [4.5000],\n",
      "        [4.4000],\n",
      "        [4.7000],\n",
      "        [3.6000],\n",
      "        [4.6000],\n",
      "        [4.3000],\n",
      "        [4.1000],\n",
      "        [3.8000],\n",
      "        [4.9000],\n",
      "        [3.7000],\n",
      "        [3.9000],\n",
      "        [5.1000],\n",
      "        [4.1000],\n",
      "        [4.3000],\n",
      "        [5.6000],\n",
      "        [4.0000],\n",
      "        [4.2000],\n",
      "        [5.2000],\n",
      "        [4.1000],\n",
      "        [4.2000],\n",
      "        [4.5000],\n",
      "        [4.3000],\n",
      "        [4.4000],\n",
      "        [4.3000],\n",
      "        [4.0000],\n",
      "        [3.3000],\n",
      "        [4.3000],\n",
      "        [4.5000],\n",
      "        [4.1000],\n",
      "        [3.8000],\n",
      "        [4.3000],\n",
      "        [5.1000],\n",
      "        [4.5000],\n",
      "        [4.0000],\n",
      "        [4.4000],\n",
      "        [4.5000],\n",
      "        [5.1000],\n",
      "        [4.4000],\n",
      "        [5.2000],\n",
      "        [4.0000],\n",
      "        [4.8000],\n",
      "        [5.3000],\n",
      "        [4.5000],\n",
      "        [3.3000],\n",
      "        [4.0000],\n",
      "        [4.2000],\n",
      "        [3.8000],\n",
      "        [4.3000],\n",
      "        [4.2000],\n",
      "        [4.4000],\n",
      "        [4.3000],\n",
      "        [4.7000],\n",
      "        [6.2000],\n",
      "        [4.8000],\n",
      "        [3.2000],\n",
      "        [4.6000],\n",
      "        [3.5000],\n",
      "        [3.5000],\n",
      "        [4.7000],\n",
      "        [5.0000],\n",
      "        [4.6000],\n",
      "        [4.2000],\n",
      "        [4.3000],\n",
      "        [4.5000],\n",
      "        [4.5000],\n",
      "        [5.1000],\n",
      "        [4.0000],\n",
      "        [3.8000],\n",
      "        [4.7000],\n",
      "        [4.5000],\n",
      "        [4.6000],\n",
      "        [4.0000],\n",
      "        [4.4000],\n",
      "        [4.6000],\n",
      "        [4.4000],\n",
      "        [3.7000],\n",
      "        [4.0000],\n",
      "        [4.1000],\n",
      "        [3.6000],\n",
      "        [4.5000],\n",
      "        [4.7000],\n",
      "        [4.6000],\n",
      "        [5.4000],\n",
      "        [4.7000],\n",
      "        [4.4000],\n",
      "        [3.8000],\n",
      "        [4.8000],\n",
      "        [3.3000],\n",
      "        [5.0000],\n",
      "        [5.3000],\n",
      "        [4.4000],\n",
      "        [4.6000],\n",
      "        [4.0000],\n",
      "        [4.1000],\n",
      "        [4.2000],\n",
      "        [4.2000],\n",
      "        [4.0000],\n",
      "        [4.0000],\n",
      "        [3.9000],\n",
      "        [4.3000],\n",
      "        [4.4000],\n",
      "        [4.8000],\n",
      "        [4.8000],\n",
      "        [4.8000],\n",
      "        [4.5000],\n",
      "        [5.2000],\n",
      "        [4.1000],\n",
      "        [4.0000],\n",
      "        [4.7000],\n",
      "        [4.3000],\n",
      "        [3.2000],\n",
      "        [5.7000],\n",
      "        [4.0000],\n",
      "        [5.2000],\n",
      "        [4.3000],\n",
      "        [4.4000],\n",
      "        [4.5000],\n",
      "        [3.6000],\n",
      "        [3.8000],\n",
      "        [4.3000],\n",
      "        [4.5000],\n",
      "        [3.9000],\n",
      "        [4.1000],\n",
      "        [5.0000],\n",
      "        [3.7000],\n",
      "        [3.9000],\n",
      "        [4.8000],\n",
      "        [4.4000],\n",
      "        [4.3000],\n",
      "        [3.7000],\n",
      "        [4.5000],\n",
      "        [4.5000],\n",
      "        [4.7000],\n",
      "        [5.1000],\n",
      "        [4.6000],\n",
      "        [5.1000],\n",
      "        [4.6000],\n",
      "        [4.5000],\n",
      "        [4.1000],\n",
      "        [4.6000],\n",
      "        [4.2000],\n",
      "        [4.3000],\n",
      "        [4.4000],\n",
      "        [3.8000],\n",
      "        [4.3000],\n",
      "        [4.1000],\n",
      "        [4.6000],\n",
      "        [4.4000],\n",
      "        [4.1000],\n",
      "        [4.4000],\n",
      "        [4.4000],\n",
      "        [4.1000],\n",
      "        [4.0000],\n",
      "        [4.7000],\n",
      "        [4.1000],\n",
      "        [4.7000],\n",
      "        [3.9000],\n",
      "        [4.6000],\n",
      "        [4.9000],\n",
      "        [5.2000],\n",
      "        [4.4000],\n",
      "        [3.8000],\n",
      "        [4.9000],\n",
      "        [4.3000],\n",
      "        [4.4000],\n",
      "        [4.2000],\n",
      "        [4.1000],\n",
      "        [3.5000],\n",
      "        [5.1000],\n",
      "        [4.4000],\n",
      "        [4.4000],\n",
      "        [4.8000],\n",
      "        [4.4000],\n",
      "        [5.1000],\n",
      "        [4.2000],\n",
      "        [6.0000],\n",
      "        [4.5000],\n",
      "        [4.3000],\n",
      "        [4.1000],\n",
      "        [3.8000],\n",
      "        [3.6000],\n",
      "        [4.8000],\n",
      "        [4.4000],\n",
      "        [4.0000],\n",
      "        [5.0000],\n",
      "        [3.9000],\n",
      "        [5.9000],\n",
      "        [4.3000],\n",
      "        [4.0000],\n",
      "        [4.0000],\n",
      "        [3.6000],\n",
      "        [4.6000],\n",
      "        [4.4000],\n",
      "        [4.8000],\n",
      "        [4.4000],\n",
      "        [4.1000],\n",
      "        [4.3000],\n",
      "        [4.8000],\n",
      "        [4.2000],\n",
      "        [4.0000],\n",
      "        [4.5000],\n",
      "        [4.8000],\n",
      "        [3.4000],\n",
      "        [6.1000],\n",
      "        [4.7000],\n",
      "        [4.7000],\n",
      "        [4.3000],\n",
      "        [4.1000],\n",
      "        [4.1000],\n",
      "        [4.5000],\n",
      "        [3.8000],\n",
      "        [4.1000],\n",
      "        [4.3000],\n",
      "        [4.5000],\n",
      "        [4.0000],\n",
      "        [4.0000],\n",
      "        [4.2000],\n",
      "        [4.1000],\n",
      "        [4.6000]])\n"
     ]
    }
   ],
   "source": [
    "#looking at a batch of data\n",
    "for xb, yb in train_loader:\n",
    "    print(\"inputs:\", xb)\n",
    "    print(\"targets:\", yb)\n",
    "    break"
   ]
  },
  {
   "cell_type": "code",
   "execution_count": 43,
   "metadata": {},
   "outputs": [
    {
     "data": {
      "application/javascript": [
       "window.require && require([\"base/js/namespace\"],function(Jupyter){Jupyter.notebook.save_checkpoint()})"
      ],
      "text/plain": [
       "<IPython.core.display.Javascript object>"
      ]
     },
     "metadata": {},
     "output_type": "display_data"
    },
    {
     "name": "stdout",
     "output_type": "stream",
     "text": [
      "[jovian] Attempting to save notebook..\u001b[0m\n",
      "[jovian] Updating notebook \"mrittrukhuda/eq-prediction-linear-regression-model\" on https://jovian.ai\u001b[0m\n",
      "[jovian] Uploading notebook..\u001b[0m\n",
      "[jovian] Uploading additional files...\u001b[0m\n",
      "[jovian] Committed successfully! https://jovian.ai/mrittrukhuda/eq-prediction-linear-regression-model\u001b[0m\n"
     ]
    },
    {
     "data": {
      "text/plain": [
       "'https://jovian.ai/mrittrukhuda/eq-prediction-linear-regression-model'"
      ]
     },
     "execution_count": 43,
     "metadata": {},
     "output_type": "execute_result"
    }
   ],
   "source": [
    "jovian.commit()"
   ]
  },
  {
   "cell_type": "markdown",
   "metadata": {},
   "source": [
    "### Creating a Linear Regression model!"
   ]
  },
  {
   "cell_type": "code",
   "execution_count": 44,
   "metadata": {},
   "outputs": [
    {
     "data": {
      "text/plain": [
       "1"
      ]
     },
     "execution_count": 44,
     "metadata": {},
     "output_type": "execute_result"
    }
   ],
   "source": [
    "len(output_cols)"
   ]
  },
  {
   "cell_type": "code",
   "execution_count": 45,
   "metadata": {},
   "outputs": [
    {
     "name": "stdout",
     "output_type": "stream",
     "text": [
      "7\n",
      "1\n"
     ]
    }
   ],
   "source": [
    "input_size = len(input_cols)\n",
    "output_size = len(output_cols)\n",
    "print(input_size)\n",
    "print(output_size)"
   ]
  },
  {
   "cell_type": "markdown",
   "metadata": {},
   "source": [
    "Note: F.l1_loss()\n",
    "1. https://pytorch.org/docs/master/nn.functional.html#torch.nn.functional.l1_loss\n",
    "2. https://pytorch.org/docs/master/_modules/torch/nn/functional.html#l1_loss"
   ]
  },
  {
   "cell_type": "code",
   "execution_count": 46,
   "metadata": {},
   "outputs": [],
   "source": [
    "class EarthquakeModel(nn.Module):\n",
    "    def __init__(self):\n",
    "        super().__init__()\n",
    "        self.linear = nn.Linear(input_size, output_size)                # fill this (hint: use input_size & output_size defined above)\n",
    "        \n",
    "    def forward(self, xb):\n",
    "        out = self.linear(xb)                         # fill this\n",
    "        return out\n",
    "    \n",
    "    def training_step(self, batch):\n",
    "        inputs, targets = batch \n",
    "        # Generate predictions\n",
    "        out = self(inputs)          \n",
    "        # Calcuate loss\n",
    "        loss = F.l1_loss(out, targets)                         # fill this\n",
    "        return loss\n",
    "    \n",
    "    def validation_step(self, batch):\n",
    "        inputs, targets = batch\n",
    "        # Generate predictions\n",
    "        out = self(inputs)\n",
    "        # Calculate loss\n",
    "        loss = F.l1_loss(out, targets)                        # fill this    \n",
    "        return {'val_loss': loss.detach()}\n",
    "        \n",
    "    def validation_epoch_end(self, outputs):\n",
    "        batch_losses = [x['val_loss'] for x in outputs]\n",
    "        epoch_loss = torch.stack(batch_losses).mean()   # Combine losses\n",
    "        return {'val_loss': epoch_loss.item()}\n",
    "    \n",
    "    def epoch_end(self, epoch, result, num_epochs):\n",
    "        # Print result every 20th epoch\n",
    "        if (epoch+1) % 20 == 0 or epoch == num_epochs-1:\n",
    "            print(\"Epoch [{}], val_loss: {:.4f}\".format(epoch+1, result['val_loss']))"
   ]
  },
  {
   "cell_type": "code",
   "execution_count": 47,
   "metadata": {},
   "outputs": [],
   "source": [
    "model = EarthquakeModel()"
   ]
  },
  {
   "cell_type": "code",
   "execution_count": 48,
   "metadata": {},
   "outputs": [
    {
     "data": {
      "text/plain": [
       "[Parameter containing:\n",
       " tensor([[-0.3493,  0.3090, -0.0236, -0.2218, -0.2465,  0.0424, -0.1078]],\n",
       "        requires_grad=True),\n",
       " Parameter containing:\n",
       " tensor([-0.0942], requires_grad=True)]"
      ]
     },
     "execution_count": 48,
     "metadata": {},
     "output_type": "execute_result"
    }
   ],
   "source": [
    "list(model.parameters())"
   ]
  },
  {
   "cell_type": "markdown",
   "metadata": {},
   "source": [
    "### Train the model to fit the data!"
   ]
  },
  {
   "cell_type": "code",
   "execution_count": 49,
   "metadata": {},
   "outputs": [],
   "source": [
    "def evaluate(model, val_loader):\n",
    "    outputs = [model.validation_step(batch) for batch in val_loader]\n",
    "    return model.validation_epoch_end(outputs)\n",
    "\n",
    "def fit(epochs, lr, model, train_loader, val_loader, opt_func=torch.optim.SGD):\n",
    "    history = []\n",
    "    optimizer = opt_func(model.parameters(), lr)\n",
    "    for epoch in range(epochs):\n",
    "        # Training Phase \n",
    "        for batch in train_loader:\n",
    "            loss = model.training_step(batch)\n",
    "            loss.backward()\n",
    "            optimizer.step()\n",
    "            optimizer.zero_grad()\n",
    "        # Validation phase\n",
    "        result = evaluate(model, val_loader)\n",
    "        model.epoch_end(epoch, result, epochs)\n",
    "        history.append(result)\n",
    "    return history"
   ]
  },
  {
   "cell_type": "code",
   "execution_count": 50,
   "metadata": {},
   "outputs": [
    {
     "name": "stdout",
     "output_type": "stream",
     "text": [
      "{'val_loss': 3115.162109375}\n"
     ]
    }
   ],
   "source": [
    "result = evaluate(model, val_loader) # Use the the evaluate function\n",
    "print(result)"
   ]
  },
  {
   "cell_type": "code",
   "execution_count": 51,
   "metadata": {},
   "outputs": [
    {
     "name": "stdout",
     "output_type": "stream",
     "text": [
      "Epoch [10], val_loss: 7185653.0000\n"
     ]
    }
   ],
   "source": [
    "epochs = 10\n",
    "lr = 0.1     \n",
    "history1 = fit(epochs, lr, model, train_loader, val_loader)"
   ]
  },
  {
   "cell_type": "code",
   "execution_count": 52,
   "metadata": {},
   "outputs": [
    {
     "name": "stdout",
     "output_type": "stream",
     "text": [
      "Epoch [10], val_loss: 884329.8125\n"
     ]
    }
   ],
   "source": [
    "epochs = 10\n",
    "lr = 1e-2      #1e-2\n",
    "history2 = fit(epochs, lr, model, train_loader, val_loader)"
   ]
  },
  {
   "cell_type": "code",
   "execution_count": 53,
   "metadata": {},
   "outputs": [
    {
     "name": "stdout",
     "output_type": "stream",
     "text": [
      "Epoch [10], val_loss: 103404.9141\n"
     ]
    }
   ],
   "source": [
    "epochs = 10\n",
    "lr = 0.001      #1e-3\n",
    "history3 = fit(epochs, lr, model, train_loader, val_loader)"
   ]
  },
  {
   "cell_type": "code",
   "execution_count": 54,
   "metadata": {},
   "outputs": [
    {
     "name": "stdout",
     "output_type": "stream",
     "text": [
      "Epoch [10], val_loss: 7422.4062\n"
     ]
    }
   ],
   "source": [
    "epochs = 10\n",
    "lr = 0.0001     #1e-4\n",
    "history4 = fit(epochs, lr, model, train_loader, val_loader)"
   ]
  },
  {
   "cell_type": "code",
   "execution_count": 55,
   "metadata": {},
   "outputs": [
    {
     "name": "stdout",
     "output_type": "stream",
     "text": [
      "Epoch [10], val_loss: 236.2033\n"
     ]
    }
   ],
   "source": [
    "epochs = 10\n",
    "lr = 0.00001     #1e-5\n",
    "history5 = fit(epochs, lr, model, train_loader, val_loader)"
   ]
  },
  {
   "cell_type": "code",
   "execution_count": 56,
   "metadata": {},
   "outputs": [
    {
     "name": "stdout",
     "output_type": "stream",
     "text": [
      "Epoch [10], val_loss: 78.7568\n"
     ]
    }
   ],
   "source": [
    "epochs = 10\n",
    "lr = 0.000001    #1e-6\n",
    "history5 = fit(epochs, lr, model, train_loader, val_loader)"
   ]
  },
  {
   "cell_type": "code",
   "execution_count": 57,
   "metadata": {},
   "outputs": [
    {
     "name": "stdout",
     "output_type": "stream",
     "text": [
      "Epoch [10], val_loss: 74.0065\n"
     ]
    }
   ],
   "source": [
    "epochs = 10\n",
    "lr = 0.0000001    #1e-7\n",
    "history5 = fit(epochs, lr, model, train_loader, val_loader)"
   ]
  },
  {
   "cell_type": "code",
   "execution_count": 58,
   "metadata": {},
   "outputs": [
    {
     "name": "stdout",
     "output_type": "stream",
     "text": [
      "Epoch [10], val_loss: 73.9995\n"
     ]
    }
   ],
   "source": [
    "epochs = 10\n",
    "lr = 0.00000001    #1e-8\n",
    "history5 = fit(epochs, lr, model, train_loader, val_loader)"
   ]
  },
  {
   "cell_type": "code",
   "execution_count": 59,
   "metadata": {},
   "outputs": [
    {
     "name": "stdout",
     "output_type": "stream",
     "text": [
      "Epoch [20], val_loss: 73.9953\n"
     ]
    }
   ],
   "source": [
    "epochs = 20\n",
    "lr = 0.000000001    #1e-9\n",
    "history5 = fit(epochs, lr, model, train_loader, val_loader)"
   ]
  },
  {
   "cell_type": "code",
   "execution_count": 60,
   "metadata": {},
   "outputs": [],
   "source": [
    "val_loss = 73.9953"
   ]
  },
  {
   "cell_type": "code",
   "execution_count": 61,
   "metadata": {},
   "outputs": [
    {
     "name": "stdout",
     "output_type": "stream",
     "text": [
      "[jovian] Metrics logged.\u001b[0m\n"
     ]
    }
   ],
   "source": [
    "jovian.log_metrics(val_loss=val_loss)"
   ]
  },
  {
   "cell_type": "code",
   "execution_count": 62,
   "metadata": {},
   "outputs": [],
   "source": [
    "project_name = \"EQ_prediction_linear_regression_model\""
   ]
  },
  {
   "cell_type": "code",
   "execution_count": 63,
   "metadata": {},
   "outputs": [
    {
     "data": {
      "application/javascript": [
       "window.require && require([\"base/js/namespace\"],function(Jupyter){Jupyter.notebook.save_checkpoint()})"
      ],
      "text/plain": [
       "<IPython.core.display.Javascript object>"
      ]
     },
     "metadata": {},
     "output_type": "display_data"
    },
    {
     "name": "stdout",
     "output_type": "stream",
     "text": [
      "[jovian] Attempting to save notebook..\u001b[0m\n",
      "[jovian] Updating notebook \"mrittrukhuda/eq-prediction-linear-regression-model\" on https://jovian.ai\u001b[0m\n",
      "[jovian] Uploading notebook..\u001b[0m\n",
      "[jovian] Uploading additional files...\u001b[0m\n",
      "[jovian] Attaching records (metrics, hyperparameters, dataset etc.)\u001b[0m\n",
      "[jovian] Committed successfully! https://jovian.ai/mrittrukhuda/eq-prediction-linear-regression-model\u001b[0m\n"
     ]
    },
    {
     "data": {
      "text/plain": [
       "'https://jovian.ai/mrittrukhuda/eq-prediction-linear-regression-model'"
      ]
     },
     "execution_count": 63,
     "metadata": {},
     "output_type": "execute_result"
    }
   ],
   "source": [
    "jovian.commit(project=project_name, environment=None)"
   ]
  },
  {
   "cell_type": "markdown",
   "metadata": {},
   "source": [
    "### Making prediction using the trained model!"
   ]
  },
  {
   "cell_type": "markdown",
   "metadata": {},
   "source": [
    "Note: .unsqueeeze() function!\n",
    "https://pytorch.org/docs/stable/generated/torch.unsqueeze.html\n",
    "\n",
    "\n",
    "Returns a new tensor with a dimension of size one inserted at the specified position."
   ]
  },
  {
   "cell_type": "code",
   "execution_count": 64,
   "metadata": {},
   "outputs": [
    {
     "data": {
      "text/plain": [
       "tensor([[1, 2, 3, 4]])"
      ]
     },
     "execution_count": 64,
     "metadata": {},
     "output_type": "execute_result"
    }
   ],
   "source": [
    "#example to practice!\n",
    "x = torch.tensor([1, 2, 3, 4])\n",
    "torch.unsqueeze(x, 0)\n",
    "\n"
   ]
  },
  {
   "cell_type": "code",
   "execution_count": 65,
   "metadata": {},
   "outputs": [
    {
     "data": {
      "text/plain": [
       "tensor([[1],\n",
       "        [2],\n",
       "        [3],\n",
       "        [4]])"
      ]
     },
     "execution_count": 65,
     "metadata": {},
     "output_type": "execute_result"
    }
   ],
   "source": [
    "torch.unsqueeze(x, 1)"
   ]
  },
  {
   "cell_type": "code",
   "execution_count": 66,
   "metadata": {},
   "outputs": [
    {
     "data": {
      "text/plain": [
       "tensor([[1],\n",
       "        [2],\n",
       "        [3],\n",
       "        [4]])"
      ]
     },
     "execution_count": 66,
     "metadata": {},
     "output_type": "execute_result"
    }
   ],
   "source": [
    "x.unsqueeze(1)"
   ]
  },
  {
   "cell_type": "markdown",
   "metadata": {},
   "source": [
    "Note: .detach() method\n",
    "\n",
    "http://www.bnikolic.co.uk/blog/pytorch-detach.html"
   ]
  },
  {
   "cell_type": "code",
   "execution_count": 67,
   "metadata": {},
   "outputs": [
    {
     "data": {
      "text/plain": [
       "tensor([-3.3241])"
      ]
     },
     "execution_count": 67,
     "metadata": {},
     "output_type": "execute_result"
    }
   ],
   "source": [
    "predictions=model(inputs)\n",
    "predictions[0].detach()"
   ]
  },
  {
   "cell_type": "code",
   "execution_count": 68,
   "metadata": {},
   "outputs": [
    {
     "data": {
      "text/plain": [
       "tensor([-56.6891])"
      ]
     },
     "execution_count": 68,
     "metadata": {},
     "output_type": "execute_result"
    }
   ],
   "source": [
    "predictions[5].detach()"
   ]
  },
  {
   "cell_type": "code",
   "execution_count": 69,
   "metadata": {},
   "outputs": [
    {
     "data": {
      "text/plain": [
       "tensor([31.7850])"
      ]
     },
     "execution_count": 69,
     "metadata": {},
     "output_type": "execute_result"
    }
   ],
   "source": [
    "predictions[300].detach()"
   ]
  },
  {
   "cell_type": "code",
   "execution_count": 70,
   "metadata": {},
   "outputs": [],
   "source": [
    "def predict_single(input, target, model):\n",
    "    inputs = input.unsqueeze(0)\n",
    "    predictions = model(inputs)             \n",
    "    prediction = predictions[0].detach()\n",
    "    print(\"Input:\", input)\n",
    "    print(\"Target:\", target)\n",
    "    print(\"Prediction:\", prediction)"
   ]
  },
  {
   "cell_type": "code",
   "execution_count": 71,
   "metadata": {},
   "outputs": [
    {
     "name": "stdout",
     "output_type": "stream",
     "text": [
      "Input: tensor([2008.0000,   11.0000,    6.0000, 2256.0000,   36.5510,   71.2980,\n",
      "          84.5000])\n",
      "Target: tensor([4.3000])\n",
      "Prediction: tensor([-86.8841])\n"
     ]
    }
   ],
   "source": [
    "input, target = val_ds[0]\n",
    "predict_single(input, target, model)"
   ]
  },
  {
   "cell_type": "code",
   "execution_count": 72,
   "metadata": {},
   "outputs": [
    {
     "name": "stdout",
     "output_type": "stream",
     "text": [
      "Input: tensor([2005.0000,   12.0000,   21.0000, 7441.0000,   35.8290,   93.2960,\n",
      "          21.5000])\n",
      "Target: tensor([5.])\n",
      "Prediction: tensor([29.5621])\n"
     ]
    }
   ],
   "source": [
    "input, target = val_ds[10]\n",
    "predict_single(input, target, model)"
   ]
  },
  {
   "cell_type": "code",
   "execution_count": 73,
   "metadata": {},
   "outputs": [
    {
     "name": "stdout",
     "output_type": "stream",
     "text": [
      "Input: tensor([1977.0000,    3.0000,   24.0000, 1275.0000,   36.6720,   76.7920,\n",
      "         143.0000])\n",
      "Target: tensor([4.6000])\n",
      "Prediction: tensor([-176.4917])\n"
     ]
    }
   ],
   "source": [
    "input, target = val_ds[23]\n",
    "predict_single(input, target, model)"
   ]
  },
  {
   "cell_type": "code",
   "execution_count": 74,
   "metadata": {},
   "outputs": [
    {
     "name": "stdout",
     "output_type": "stream",
     "text": [
      "Input: tensor([2.0000e+03, 1.0000e+00, 5.0000e+00, 1.1364e+04, 3.2224e+01, 9.2859e+01,\n",
      "        3.3000e+01])\n",
      "Target: tensor([3.9000])\n",
      "Prediction: tensor([-6.0702])\n"
     ]
    }
   ],
   "source": [
    "input, target =val_ds[300]\n",
    "predict_single(input, target, model)"
   ]
  },
  {
   "cell_type": "code",
   "execution_count": 75,
   "metadata": {},
   "outputs": [
    {
     "name": "stdout",
     "output_type": "stream",
     "text": [
      "Input: tensor([1.9960e+03, 2.0000e+00, 1.7000e+01, 6.1790e+03, 2.6138e+01, 9.0687e+01,\n",
      "        5.0000e+01])\n",
      "Target: tensor([4.3000])\n",
      "Prediction: tensor([-25.9186])\n"
     ]
    }
   ],
   "source": [
    "input, target =val_ds[5]\n",
    "predict_single(input, target, model)"
   ]
  },
  {
   "cell_type": "code",
   "execution_count": 76,
   "metadata": {},
   "outputs": [
    {
     "name": "stdout",
     "output_type": "stream",
     "text": [
      "Input: tensor([2012.0000,   12.0000,   22.0000, 2706.0000,   36.4860,   71.0300,\n",
      "         125.1000])\n",
      "Target: tensor([4.1000])\n",
      "Prediction: tensor([-142.9677])\n"
     ]
    }
   ],
   "source": [
    "input, target =val_ds[4]\n",
    "predict_single(input, target, model)"
   ]
  },
  {
   "cell_type": "code",
   "execution_count": 77,
   "metadata": {},
   "outputs": [
    {
     "name": "stdout",
     "output_type": "stream",
     "text": [
      "Input: tensor([2.0130e+03, 8.0000e+00, 1.1000e+01, 1.9099e+04, 3.0046e+01, 9.7956e+01,\n",
      "        6.0000e+00])\n",
      "Target: tensor([5.7000])\n",
      "Prediction: tensor([46.4003])\n"
     ]
    }
   ],
   "source": [
    "input, target =val_ds[9]\n",
    "predict_single(input, target, model)"
   ]
  },
  {
   "cell_type": "code",
   "execution_count": 78,
   "metadata": {},
   "outputs": [
    {
     "name": "stdout",
     "output_type": "stream",
     "text": [
      "Input: tensor([1.9980e+03, 7.0000e+00, 1.4000e+01, 1.7051e+04, 3.0117e+01, 6.7679e+01,\n",
      "        3.3000e+01])\n",
      "Target: tensor([4.])\n",
      "Prediction: tensor([9.9006])\n"
     ]
    }
   ],
   "source": [
    "input, target =val_ds[12]\n",
    "predict_single(input, target, model)"
   ]
  },
  {
   "cell_type": "code",
   "execution_count": 79,
   "metadata": {},
   "outputs": [
    {
     "name": "stdout",
     "output_type": "stream",
     "text": [
      "Input: tensor([2.0080e+03, 8.0000e+00, 3.0000e+01, 1.2848e+04, 2.6035e+01, 9.5676e+01,\n",
      "        9.9900e+01])\n",
      "Target: tensor([4.3000])\n",
      "Prediction: tensor([-100.5840])\n"
     ]
    }
   ],
   "source": [
    "input, target =val_ds[33]\n",
    "predict_single(input, target, model)"
   ]
  },
  {
   "cell_type": "code",
   "execution_count": 80,
   "metadata": {},
   "outputs": [
    {
     "name": "stdout",
     "output_type": "stream",
     "text": [
      "Input: tensor([1.9960e+03, 2.0000e+00, 3.0000e+00, 1.3077e+04, 2.7413e+01, 1.0019e+02,\n",
      "        1.0000e+01])\n",
      "Target: tensor([4.1000])\n",
      "Prediction: tensor([29.4506])\n"
     ]
    }
   ],
   "source": [
    "input, target =val_ds[55]\n",
    "predict_single(input, target, model)"
   ]
  },
  {
   "cell_type": "code",
   "execution_count": 81,
   "metadata": {},
   "outputs": [
    {
     "name": "stdout",
     "output_type": "stream",
     "text": [
      "Input: tensor([2.0050e+03, 1.0000e+00, 1.3000e+01, 1.7616e+04, 1.4560e+01, 9.2597e+01,\n",
      "        3.0000e+01])\n",
      "Target: tensor([4.6000])\n",
      "Prediction: tensor([4.2857])\n"
     ]
    }
   ],
   "source": [
    "input, target =val_ds[1022]\n",
    "predict_single(input, target, model)"
   ]
  },
  {
   "cell_type": "code",
   "execution_count": 85,
   "metadata": {},
   "outputs": [
    {
     "name": "stdout",
     "output_type": "stream",
     "text": [
      "Input: tensor([2009.0000,    7.0000,   28.0000, 5860.0000,   10.6090,   94.1430,\n",
      "          10.0000])\n",
      "Target: tensor([4.1000])\n",
      "Prediction: tensor([50.7868])\n"
     ]
    }
   ],
   "source": [
    "input, target =val_ds[2000]\n",
    "predict_single(input, target, model)"
   ]
  },
  {
   "cell_type": "code",
   "execution_count": 87,
   "metadata": {},
   "outputs": [
    {
     "name": "stdout",
     "output_type": "stream",
     "text": [
      "Input: tensor([2.0050e+03, 1.0000e+00, 1.2000e+01, 1.8463e+04, 2.0904e+01, 9.8034e+01,\n",
      "        2.0000e+01])\n",
      "Target: tensor([3.8000])\n",
      "Prediction: tensor([20.2499])\n"
     ]
    }
   ],
   "source": [
    "input, target =val_ds[1576]\n",
    "predict_single(input, target, model)"
   ]
  },
  {
   "cell_type": "code",
   "execution_count": null,
   "metadata": {},
   "outputs": [],
   "source": [
    "jovian.commit()"
   ]
  },
  {
   "cell_type": "code",
   "execution_count": null,
   "metadata": {},
   "outputs": [],
   "source": []
  },
  {
   "cell_type": "code",
   "execution_count": null,
   "metadata": {},
   "outputs": [],
   "source": []
  },
  {
   "cell_type": "code",
   "execution_count": null,
   "metadata": {},
   "outputs": [],
   "source": []
  },
  {
   "cell_type": "code",
   "execution_count": null,
   "metadata": {},
   "outputs": [],
   "source": []
  },
  {
   "cell_type": "code",
   "execution_count": null,
   "metadata": {},
   "outputs": [],
   "source": []
  },
  {
   "cell_type": "code",
   "execution_count": null,
   "metadata": {},
   "outputs": [],
   "source": []
  },
  {
   "cell_type": "code",
   "execution_count": null,
   "metadata": {},
   "outputs": [],
   "source": []
  },
  {
   "cell_type": "code",
   "execution_count": null,
   "metadata": {},
   "outputs": [],
   "source": []
  },
  {
   "cell_type": "code",
   "execution_count": null,
   "metadata": {},
   "outputs": [],
   "source": []
  }
 ],
 "metadata": {
  "language_info": {
   "codemirror_mode": {
    "name": "ipython",
    "version": 3
   },
   "file_extension": ".py",
   "mimetype": "text/x-python",
   "name": "python",
   "nbconvert_exporter": "python",
   "pygments_lexer": "ipython3",
   "version": "3.8.6"
  }
 },
 "nbformat": 4,
 "nbformat_minor": 2
}